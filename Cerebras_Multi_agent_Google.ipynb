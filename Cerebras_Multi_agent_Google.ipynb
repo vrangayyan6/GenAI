{
  "nbformat": 4,
  "nbformat_minor": 0,
  "metadata": {
    "colab": {
      "provenance": [],
      "authorship_tag": "ABX9TyNucWrztUAE1AWx9MEdSHM4",
      "include_colab_link": true
    },
    "kernelspec": {
      "name": "python3",
      "display_name": "Python 3"
    },
    "language_info": {
      "name": "python"
    }
  },
  "cells": [
    {
      "cell_type": "markdown",
      "metadata": {
        "id": "view-in-github",
        "colab_type": "text"
      },
      "source": [
        "<a href=\"https://colab.research.google.com/github/vrangayyan6/GenAI/blob/main/Cerebras_Multi_agent_Google.ipynb\" target=\"_parent\"><img src=\"https://colab.research.google.com/assets/colab-badge.svg\" alt=\"Open In Colab\"/></a>"
      ]
    },
    {
      "cell_type": "markdown",
      "source": [
        "# Using AI to Streamline Research for Content Creation\n",
        "## The Problem\n",
        "Content creators, researchers, and marketers face a significant challenge when developing comprehensive material on specialized topics. The traditional research process is both time-consuming and labor-intensive:\n",
        "\n",
        "They must formulate effective search queries\n",
        "Sift through numerous search results manually\n",
        "Evaluate the relevance and credibility of sources\n",
        "Extract and organize key information\n",
        "Synthesize findings into coherent content\n",
        "Repeat this process multiple times to fill knowledge gaps\n",
        "\n",
        "This workflow can take hours or even days, delaying content production and limiting the number of topics a team can cover effectively. For small teams or individual creators without research assistants, this bottleneck severely impacts productivity.\n",
        "\n",
        "## The AI Solution\n",
        "Generative AI, as demonstrated in the code you shared, can transform this process through automated research assistance:\n",
        "\n",
        "- Query Optimization: The AI refines user queries to match search engine algorithms for better results (as shown in the format_search method)\n",
        "- Automated Information Gathering: Instead of manual searching, the AI conducts multiple search queries and aggregates the results\n",
        "- Intelligent Gap Analysis: The system evaluates the completeness of research and automatically identifies missing information (via the EditorAgent)\n",
        "- Iterative Research: The AI conducts multiple rounds of research until sufficient information is gathered, targeting different aspects of the topic with each iteration\n",
        "- Content Synthesis: When research is complete, the AI transforms raw research into well-structured content (via the WriterAgent)\n",
        "\n",
        "## Real-World Impact\n",
        "This AI-powered research workflow reduces what might take hours into minutes. Content creators can focus on refining and adding their unique perspective to AI-generated drafts rather than spending time on initial research and organization.\n",
        "The solution is particularly valuable for:\n",
        "\n",
        "- Marketing teams needing to create content across multiple product lines\n",
        "- Researchers exploring new domains quickly\n",
        "- Educational content creators covering diverse topics\n",
        "- Small businesses without dedicated research staff\n",
        "\n",
        "By increasing the number of search results (as you've requested), the system becomes even more effective, gathering a wider range of perspectives and information in each research iteration."
      ],
      "metadata": {
        "id": "YNwBFnJIAZAX"
      }
    },
    {
      "cell_type": "markdown",
      "source": [
        "# Multi Agentic Workflow with Cerebras, Google, LangChain and LangGraph\n",
        "\n",
        "Got early access to Meta’s latest model, Llama 4, running at 2611 tok/s, the fastest inference speed available at [cloud.cerebras.ai](https://cloud.cerebras.ai) and trying it out in this notebook.\n",
        "\n",
        "https://inference-docs.cerebras.ai/introduction"
      ],
      "metadata": {
        "id": "pcJCR3AFo7JW"
      }
    },
    {
      "cell_type": "markdown",
      "source": [
        "# Cerebras API Key\n",
        "Get Cerebras API key at https://cloud.cerebras.ai/\n",
        "\n",
        "# LangChain key\n",
        "Follow steps in\n",
        "https://docs.smith.langchain.com/administration/how_to_guides/organization_management/create_account_api_key\n",
        "\n",
        "# Setting up Google Search API Credentials\n",
        "\n",
        "Before running the main code, you need to set up your Google Search API credentials:\n",
        "\n",
        "## Step 1: Get a Google API Key\n",
        "1. Go to the [Google Cloud Console](https://console.cloud.google.com/)\n",
        "2. Create a new project or select an existing one\n",
        "3. Enable the \"Custom Search API\" for your project\n",
        "4. Go to \"Credentials\" and create an API key\n",
        "\n",
        "## Step 2: Create a Programmable Search Engine\n",
        "1. Go to [Programmable Search Engine](https://programmablesearchengine.google.com/about/)\n",
        "2. Click \"Create a Programmable Search Engine\"\n",
        "3. Configure your search engine (you can search the entire web)\n",
        "4. After creation, find your \"Search engine ID\" (also called CSE ID)\n"
      ],
      "metadata": {
        "id": "4M2uZGPVrli0"
      }
    },
    {
      "cell_type": "code",
      "source": [
        "!pip install -q langchain_cerebras langchain_community langgraph langchain langchain-core langsmith langchain_experimental cerebras_cloud_sdk langchain-google-community google-search-results\n"
      ],
      "metadata": {
        "id": "FzQsjDvbrU4W",
        "colab": {
          "base_uri": "https://localhost:8080/"
        },
        "outputId": "d21a3781-9641-4e21-d8ae-60e9f2866526"
      },
      "execution_count": null,
      "outputs": [
        {
          "output_type": "stream",
          "name": "stdout",
          "text": [
            "  Preparing metadata (setup.py) ... \u001b[?25l\u001b[?25hdone\n",
            "\u001b[2K     \u001b[90m━━━━━━━━━━━━━━━━━━━━━━━━━━━━━━━━━━━━━━━━\u001b[0m \u001b[32m43.5/43.5 kB\u001b[0m \u001b[31m1.6 MB/s\u001b[0m eta \u001b[36m0:00:00\u001b[0m\n",
            "\u001b[2K   \u001b[90m━━━━━━━━━━━━━━━━━━━━━━━━━━━━━━━━━━━━━━━━\u001b[0m \u001b[32m2.5/2.5 MB\u001b[0m \u001b[31m29.9 MB/s\u001b[0m eta \u001b[36m0:00:00\u001b[0m\n",
            "\u001b[2K   \u001b[90m━━━━━━━━━━━━━━━━━━━━━━━━━━━━━━━━━━━━━━━━\u001b[0m \u001b[32m143.0/143.0 kB\u001b[0m \u001b[31m8.8 MB/s\u001b[0m eta \u001b[36m0:00:00\u001b[0m\n",
            "\u001b[2K   \u001b[90m━━━━━━━━━━━━━━━━━━━━━━━━━━━━━━━━━━━━━━━━\u001b[0m \u001b[32m209.2/209.2 kB\u001b[0m \u001b[31m11.3 MB/s\u001b[0m eta \u001b[36m0:00:00\u001b[0m\n",
            "\u001b[2K   \u001b[90m━━━━━━━━━━━━━━━━━━━━━━━━━━━━━━━━━━━━━━━━\u001b[0m \u001b[32m88.2/88.2 kB\u001b[0m \u001b[31m4.1 MB/s\u001b[0m eta \u001b[36m0:00:00\u001b[0m\n",
            "\u001b[2K   \u001b[90m━━━━━━━━━━━━━━━━━━━━━━━━━━━━━━━━━━━━━━━━\u001b[0m \u001b[32m99.6/99.6 kB\u001b[0m \u001b[31m5.2 MB/s\u001b[0m eta \u001b[36m0:00:00\u001b[0m\n",
            "\u001b[2K   \u001b[90m━━━━━━━━━━━━━━━━━━━━━━━━━━━━━━━━━━━━━━━━\u001b[0m \u001b[32m61.3/61.3 kB\u001b[0m \u001b[31m3.2 MB/s\u001b[0m eta \u001b[36m0:00:00\u001b[0m\n",
            "\u001b[2K   \u001b[90m━━━━━━━━━━━━━━━━━━━━━━━━━━━━━━━━━━━━━━━━\u001b[0m \u001b[32m42.0/42.0 kB\u001b[0m \u001b[31m1.8 MB/s\u001b[0m eta \u001b[36m0:00:00\u001b[0m\n",
            "\u001b[2K   \u001b[90m━━━━━━━━━━━━━━━━━━━━━━━━━━━━━━━━━━━━━━━━\u001b[0m \u001b[32m47.2/47.2 kB\u001b[0m \u001b[31m2.7 MB/s\u001b[0m eta \u001b[36m0:00:00\u001b[0m\n",
            "\u001b[2K   \u001b[90m━━━━━━━━━━━━━━━━━━━━━━━━━━━━━━━━━━━━━━━━\u001b[0m \u001b[32m194.8/194.8 kB\u001b[0m \u001b[31m9.7 MB/s\u001b[0m eta \u001b[36m0:00:00\u001b[0m\n",
            "\u001b[2K   \u001b[90m━━━━━━━━━━━━━━━━━━━━━━━━━━━━━━━━━━━━━━━━\u001b[0m \u001b[32m50.9/50.9 kB\u001b[0m \u001b[31m2.6 MB/s\u001b[0m eta \u001b[36m0:00:00\u001b[0m\n",
            "\u001b[2K   \u001b[90m━━━━━━━━━━━━━━━━━━━━━━━━━━━━━━━━━━━━━━━━\u001b[0m \u001b[32m223.6/223.6 kB\u001b[0m \u001b[31m11.4 MB/s\u001b[0m eta \u001b[36m0:00:00\u001b[0m\n",
            "\u001b[2K   \u001b[90m━━━━━━━━━━━━━━━━━━━━━━━━━━━━━━━━━━━━━━━━\u001b[0m \u001b[32m1.2/1.2 MB\u001b[0m \u001b[31m42.3 MB/s\u001b[0m eta \u001b[36m0:00:00\u001b[0m\n",
            "\u001b[?25h  Building wheel for google-search-results (setup.py) ... \u001b[?25l\u001b[?25hdone\n"
          ]
        }
      ]
    },
    {
      "cell_type": "code",
      "execution_count": null,
      "metadata": {
        "id": "wDczmKZko6NB"
      },
      "outputs": [],
      "source": [
        "import os\n",
        "import time\n",
        "from langgraph.graph import StateGraph\n",
        "from langgraph.graph.message import add_messages\n",
        "from typing_extensions import TypedDict\n",
        "from typing import Annotated\n",
        "from langgraph.graph import END\n",
        "from langchain_cerebras import ChatCerebras\n",
        "from langchain_google_community import GoogleSearchAPIWrapper\n",
        "from langchain_google_community import GoogleSearchRun\n",
        "from google.colab import userdata\n",
        "from IPython.display import Markdown"
      ]
    },
    {
      "cell_type": "code",
      "source": [
        "# Add tracing in LangSmith\n",
        "os.environ[\"LANGCHAIN_TRACING_V2\"] = \"true\"\n",
        "\n",
        "# Make sure these are set BEFORE creating any search wrappers\n",
        "os.environ[\"GOOGLE_CSE_ID\"] = userdata.get('GOOGLE_CSE_ID')\n",
        "os.environ[\"GOOGLE_API_KEY\"] = userdata.get('GOOGLESEARCH_API_KEY')\n",
        "\n",
        "final_result = []\n",
        "\n",
        "os.environ[\"LANGCHAIN_API_KEY\"] = userdata.get('LANGCHAIN_API_KEY')\n",
        "\n",
        "api_key = userdata.get('CEREBRAS_API_KEY')\n",
        "\n",
        "class State(TypedDict):\n",
        "    query: Annotated[list, add_messages]\n",
        "    research: Annotated[list, add_messages]\n",
        "    content: str\n",
        "    content_ready: bool\n",
        "    iteration_count: int\n",
        "    # Counter for iterations\n",
        "\n",
        "# Initialize ChatCerebras instance for language model\n",
        "llm = ChatCerebras(api_key=api_key, model=\"llama-4-scout-17b-16e-instruct\")\n",
        "\n",
        "\n",
        "class ResearchAgent:\n",
        "    def format_search(self, query: str) -> str:\n",
        "        prompt = (\n",
        "            \"You are an expert at optimizing search queries for Google. \"\n",
        "            \"Your task is to take a given query and return an optimized version of it, making it more likely to yield relevant results. \"\n",
        "            \"Do not include any explanations or extra text, only the optimized query.\\n\\n\"\n",
        "            \"Example:\\n\"\n",
        "            \"Original: best laptop 2023 for programming\\n\"\n",
        "            \"Optimized: top laptops 2023 for coding\\n\\n\"\n",
        "            \"Example:\\n\"\n",
        "            \"Original: how to train a puppy not to bite\\n\"\n",
        "            \"Optimized: puppy training tips to prevent biting\\n\\n\"\n",
        "            \"Now optimize the following query:\\n\"\n",
        "            f\"Original: {query}\\n\"\n",
        "            \"Optimized:\"\n",
        "        )\n",
        "\n",
        "        response = llm.invoke(prompt)\n",
        "        return response.content\n",
        "\n",
        "    def search(self, state: State):\n",
        "        # Initialize the Google Search API wrapper first\n",
        "        search_wrapper = GoogleSearchAPIWrapper(k=10)\n",
        "        # Pass the wrapper to GoogleSearchRun\n",
        "        search = GoogleSearchRun(api_wrapper=search_wrapper)\n",
        "\n",
        "        start_time = time.perf_counter()\n",
        "        optimized_query = self.format_search(state.get('query', \"\")[-1].content)\n",
        "        end_time = time.perf_counter()\n",
        "\n",
        "        results = search.invoke(optimized_query)\n",
        "\n",
        "        state[\"optimized_query\"] = optimized_query\n",
        "\n",
        "        final_result.append({\"subheader\": f\"Research Iteration\", \"content\": [results], \"time\": end_time - start_time})\n",
        "        print(\"Search results: \", results)\n",
        "        return {\"research\": results}\n",
        "\n",
        "class EditorAgent:\n",
        "    def evaluate_research(self, state: State):\n",
        "        query = '\\n'.join(message.content for message in state.get(\"query\"))\n",
        "        research = '\\n'.join(message.content for message in state.get(\"research\"))\n",
        "\n",
        "        iteration_count = state.get(\"iteration_count\", 1)\n",
        "\n",
        "        if iteration_count is None:\n",
        "            iteration_count = 1\n",
        "\n",
        "        if iteration_count >= 11:\n",
        "            return {\"content_ready\": True}\n",
        "\n",
        "        prompt = (\n",
        "            \"You are an expert editor. Your task is to evaluate the research based on the query. \"\n",
        "            \"If the information is sufficient to create a comprehensive and accurate blog post, respond with 'sufficient'. \"\n",
        "            \"If the information is not sufficient, respond with 'insufficient' and provide a new, creative query suggestion to improve the results. \"\n",
        "            \"If the research results appear repetitive or not diverse enough, think about a very different kind of question that could yield more varied and relevant information. \"\n",
        "            \"Consider the depth, relevance, and completeness of the information when making your decision.\\n\\n\"\n",
        "            \"Example 1:\\n\"\n",
        "            \"Used queries: What are the benefits of a Mediterranean diet?\\n\"\n",
        "            \"Research: The Mediterranean diet includes fruits, vegetables, whole grains, and healthy fats.\\n\"\n",
        "            \"Evaluation: Insufficient\\n\"\n",
        "            \"New query: Detailed health benefits of a Mediterranean diet\\n\\n\"\n",
        "            \"Example 2:\\n\"\n",
        "            \"Used queries: How does solar power work?\\n\"\n",
        "            \"Research: Solar power works by converting sunlight into electricity using photovoltaic cells.\\n\"\n",
        "            \"Evaluation: Sufficient\\n\\n\"\n",
        "            \"Example 3:\\n\"\n",
        "            \"Used queries: Effects of climate change on polar bears?\\n\"\n",
        "            \"Research: Climate change is reducing sea ice, affecting polar bear habitats.\\n\"\n",
        "            \"Evaluation: Insufficient\\n\"\n",
        "            \"New query: How are polar bears adapting to the loss of sea ice due to climate change?\\n\\n\"\n",
        "            \"Now evaluate the following:\\n\"\n",
        "            f\"Used queries: {query}\\n\"\n",
        "            f\"Research: {research}\\n\\n\"\n",
        "            \"Evaluation (sufficient/insufficient):\\n\"\n",
        "            \"New query (if insufficient):\"\n",
        "        )\n",
        "\n",
        "        start_time = time.perf_counter()\n",
        "        response = llm.invoke(prompt)\n",
        "        end_time = time.perf_counter()\n",
        "\n",
        "        evaluation = response.content.strip()\n",
        "\n",
        "        final_result.append({\"subheader\": f\"Editor Evaluation Iteration\", \"content\": evaluation, \"time\": end_time - start_time})\n",
        "\n",
        "        if \"new query:\" in evaluation.lower():\n",
        "            new_query = evaluation.split(\"New query:\", 1)[-1].strip()\n",
        "            return {\"query\": [new_query], \"iteration_count\": iteration_count + 1, \"evaluation\": evaluation}\n",
        "        else:\n",
        "            return {\"content_ready\": True, \"evaluation\": evaluation}\n",
        "\n",
        "class WriterAgent:\n",
        "    def write_blogpost(self, state: State):\n",
        "        query = state.get(\"query\")[0].content\n",
        "        research = '\\n'.join(message.content for message in state.get(\"research\"))\n",
        "\n",
        "        prompt = (\n",
        "            \"You are an expert blog post writer. Your task is to take a given query and context, and write a comprehensive, engaging, and informative short blog post about it. \"\n",
        "            \"Make sure to include an introduction, main body with detailed information, and a conclusion. Use a friendly and accessible tone, and ensure the content is well-structured and easy to read.\\n\\n\"\n",
        "            f\"Query: {query}\\n\\n\"\n",
        "            f\"Context:\\n{research}\\n\\n\"\n",
        "            \"Write a detailed and engaging blog post based on the above query and context.\"\n",
        "        )\n",
        "\n",
        "        response  = llm.invoke(prompt)\n",
        "\n",
        "        return {\"content\": response.content}\n",
        "\n",
        "# Initialize the StateGraph\n",
        "graph = StateGraph(State)\n",
        "\n",
        "graph.add_node(\"search_agent\", ResearchAgent().search)\n",
        "graph.add_node(\"writer_agent\", WriterAgent().write_blogpost)\n",
        "graph.add_node(\"editor_agent\", EditorAgent().evaluate_research)\n",
        "\n",
        "graph.set_entry_point(\"search_agent\")\n",
        "\n",
        "graph.add_edge(\"search_agent\", \"editor_agent\")\n",
        "\n",
        "graph.add_conditional_edges(\n",
        "    \"editor_agent\",\n",
        "    lambda state: \"accept\" if state.get(\"content_ready\") else \"revise\",\n",
        "    {\n",
        "        \"accept\": \"writer_agent\",\n",
        "        \"revise\": \"search_agent\"\n",
        "    }\n",
        ")\n",
        "\n",
        "graph.add_edge(\"writer_agent\", END)\n",
        "\n",
        "graph = graph.compile()\n",
        "\n",
        "def invoke_graph(user_prompt):\n",
        "  start_time = time.perf_counter()\n",
        "  blogpost = graph.invoke({\"query\": user_prompt})\n",
        "  end_time = time.perf_counter()\n",
        "  print(\"\\n\\n\")\n",
        "  return blogpost[\"content\"]"
      ],
      "metadata": {
        "id": "lACVJ1PnqH6y"
      },
      "execution_count": null,
      "outputs": []
    },
    {
      "cell_type": "markdown",
      "source": [
        "# Provide your prompt below"
      ],
      "metadata": {
        "id": "I7ggYONsq7ti"
      }
    },
    {
      "cell_type": "code",
      "source": [
        "user_prompt = \"Act as an expert in Financial Services, explain in detail on separately managed accounts\""
      ],
      "metadata": {
        "id": "NT_Nwfuz6Y10"
      },
      "execution_count": null,
      "outputs": []
    },
    {
      "cell_type": "code",
      "source": [
        "Markdown(invoke_graph(user_prompt))"
      ],
      "metadata": {
        "id": "2KkYDObf8G0u",
        "colab": {
          "base_uri": "https://localhost:8080/",
          "height": 1000
        },
        "outputId": "aef8115c-8360-4f05-b9dd-86e449afde60"
      },
      "execution_count": null,
      "outputs": [
        {
          "output_type": "stream",
          "name": "stdout",
          "text": [
            "Search results:  May 1, 2024 ... Innovation in mutual fund variety really didn't take off until the 1980s and 1990s, when funds became the standard investment choices of defined ... It takes a hefty minimum investment to establish a separately managed account (SMA), but it does offer some distinct advantages. Nov 3, 2022 ... A SMA is a portfolio of securities managed by an investment firm on an investor's behalf. Unlike a mutual fund or Exchange Traded Fund (ETF), the investor ... Jan 3, 2025 ... If you work with a financial advisor who manages your investments, you might have a separately managed account. Here's what that means and ... An SMA is a professionally managed portfolio of individual investments designed to meet a specific objective—one component of your overall investment portfolio ... What is a separately managed account? · Contact your Schwab Financial Consultant or connect with us to learn more. · Ownership has its advantages. · Find the ... What are the benefits of a separately managed account? SMAs create benefits for both end investor and advisors by offering institutional investment management ... SMAs allow investors to establish guidelines for managing investments in line with their personal beliefs and needs. For instance, you could restrict investment ... SMA. Understanding Separately Managed Accounts. SMAs can provide investors with many of the benefits of pooled vehicles, such as exchange-traded funds (ETFs) ... Depending on an investor's specific hedge fund portfolio characteristics and goals, managed accounts may offer compelling benefits. Defining the structures.\n",
            "Search results:  With a mutual fund or ETF, you and many other investors own shares of the ... Equity — Separately Managed Account. Value. Blend. Growth. Thematic. T a x. -Sm. Sep 1, 2023 ... For assets held directly as individual securities in separately managed accounts or ... With a mutual fund or ETF, an investor may harvest losses ... What is a Separately Managed Account (SMA)? · What are the benefits of using SMAs for investors? · How do SMAs differ from mutual funds or ETFs? · What are some ... Oct 13, 2023 ... Separately managed accounts (SMAs) are managed by investment professionals and designed for high-net-worth individuals who have specialized or ... AdvisorsThe art of advisingSeparately Managed AccountsDirect indexing ... Mutual funds and ETFs are comingled funds: everyone who buys that mutual fund or ETF ... Existing tax advantages of ETFs in the United States as compared to mutual funds ... separately managed accounts (SMAs) into ETFs because of tax ... A key difference is what you own as the investor. Slide 6: With mutual funds or ETFs, investors own shares of the fund, not the individual securities inside of ... Direct indexing can provide greater autonomy, control, and tax advantages over owning an index mutual fund or ETF because investors can sell securities in their ... Sep 17, 2020 ... Advantages of Separately Managed Accounts. Transparency. Unlike mutual funds or ETFs, SMAs offer outright ownership of individual securities. ... fund (ETFs), bonds, alternative investments, separately managed accounts (SMAs), and asset allocation models—for continuous innovation. Our experienced team ...\n",
            "Search results:  ... or impact investing ESG criteria. (Figure ... They are using ETFs to gain or reduce exposure to specific asset classes or investment strategies, diversify. ESG or sustainable investing strategies (together, “ESG Strategies”), including SMAs, mutual funds and ETFs, can limit the types and number of investment ... What is a Separately Managed Account (SMA)? · What are the benefits of using SMAs for investors? · How do SMAs differ from mutual funds or ETFs? · What are some ... mutual funds and 2,800 Separately Managed Accounts over 7 years. The results ... • Separately Managed Account (SMA) incorporating analysis of ESG criteria into. ... separate managed account strategies, mutual funds and ETFs that are issued and/or ... investing certain investment management account assets in certain ... Oct 16, 2024 ... ... mutual funds and separately managed accounts have been.” 9. Morningstar Asset Owner Survey Finds ESG Gaining In Importance. Unlike mutual funds or ETFs, direct indexing through a separately managed account can provide greater tax efficiencies and the ability to customize a ... Feb 29, 2024 ... Certain issuers of investments including, but not limited to, separately managed accounts (SMAs), mutual funds and exchange traded-funds (ETFs) ... options and multiple investment vehicles, including mutual funds, exchange-traded funds (ETFs), separately managed accounts (SMAs) or combinations of investment. Feb 19, 2019 ... respondents' firms offer mutual funds that integrate sustainability or ESG considerations, ... exchange traded funds (51%) and separately managed.\n",
            "Search results:  No good Google Search Result was found\n",
            "Search results:  No good Google Search Result was found\n",
            "Search results:  No good Google Search Result was found\n",
            "Search results:  No good Google Search Result was found\n",
            "Search results:  How does a Schwab Personalized Indexing separately managed account differ from an index mutual fund or ETF tracking a similar index? What is a Separately Managed Account (SMA)? · What are the benefits of using SMAs for investors? · How do SMAs differ from mutual funds or ETFs? · What are some ... Nov 1, 2021 ... In this interview, Kevin Knowles and Nick Zylkowski discuss Russell Investments' Personalized Managed Accounts (PMA) program, ... An issuer's ESG performance or the investment advisor's assessment of ... Comparing the management and/or performance of a separate account to a mutual fund ... ... or less than its original cost. Tax Loss Harvesting (Tax Alpha) Disclosure: AB employs a tax loss harvesting program within its separately managed accounts. Build separately managed accounts in minutes that reflect each client's tax ... When might clients benefit from using it in lieu of a mutual fund or ETF? Customize an investor's SMA for tax management needs; environmental, social, and governance (ESG) values; and individual stock, industry, sector, or country ... Unlike mutual funds or ETFs, direct indexing through a separately managed account can provide greater tax efficiencies and the ability to customize a ... Mar 31, 2022 ... Unlike an index mutual fund or ETF ... Within separately managed accounts (SMAs), Schwab Personalized Indexing employs a proprietary optimization ... ... rates than. ETFs and mutual funds in the coming years.1 We believe that this growth comes in recognition that comingled investment vehicles such as mutual ...\n",
            "Search results:  Going beyond traditional index investing, like through exchange-traded funds (ETFs) and mutual funds, direct indexing lets you own individual stocks that ... Unlike mutual funds or ETFs, direct indexing through a separately managed account can provide greater tax efficiencies and the ability to customize a ... May 12, 2023 ... Investing in a fund that tracks a broad market index—such as an exchange-traded fund (ETF) or a mutual fund—is a simple, cost-effective way ... Through a separately managed account, an investment manager establishes direct ownership of individual stocks that make up the chosen index. Using optimization ... Like an ETF, a tax-managed SMA can provide investors with index-based market exposure. ETFs include a large range of cap-weighted indexes such as the S&P 500®,. Mar 31, 2022 ... ... mutual fund or ETF, direct ... Within separately managed accounts (SMAs), Schwab Personalized Indexing employs a proprietary optimization ... ... fees compared to mutual funds or ETFs. Who are the best direct indexing providers and custom indexing providers? Direct and custom indexing have gained ... Selling some or all of the investment in stocks, funds or exchange-traded funds (ETFs) ... The most common benefit of direct indexing is in tax planning,. Take a quick tour of our evolving line of ETFs, mutual funds, and separately managed account strategies. ... tax, legal, or investment planning advice. May 7, 2024 ... ... separately managed account (SMA) to track an index, rather than investing in a mutual fund or ETF that tracks the same index. ... tax-loss ...\n",
            "Search results:  high-net-worth investors. A tax-managed separately managed account ... Comparing the management and/or performance of a separate account to a mutual fund ... Sep 19, 2023 ... ... investing in a traditional mutual fund or exchange-traded fund (ETF). ... High-net worth investors especially are seeking customization and ... ... tax alpha for your high-net-worth clients.³ You'll get: Daily ... Ultra-high-net-worth investors have been using separately managed accounts for years. Nov 1, 2021 ... Some higher net worth advisors were able to directly own securities through separately managed accounts ... mutual funds or ETFs. You had ... Jan 10, 2024 ... ⁴ For high-net-worth investors, tax-loss harvesting in a ... ETFs, mutual funds, or retail separate accounts. Source: Donnie ... ... high-net-worth individuals, primarily for tax-loss harvesting opportunities. ... higher management fees compared to mutual funds or ETFs. Who are the best ... Going beyond traditional index investing, like through exchange-traded funds (ETFs) and mutual funds, direct indexing lets you own individual stocks that ... Mar 31, 2022 ... ... high net worth investors and institutions able to meet very high investment minimums. ... optimization process including daily monitoring ... Jan 25, 2024 ... institutional investors, to family offices to high net worth investors, with a ... – Fees may be higher than those associated with a mutual fund. Calvert's 40+ Years of ESG and Responsible Investment capabilities offer individuals, advisors and institutions a range of solutions for a positive impact.\n",
            "\n",
            "\n",
            "\n"
          ]
        },
        {
          "output_type": "execute_result",
          "data": {
            "text/plain": [
              "<IPython.core.display.Markdown object>"
            ],
            "text/markdown": "**Separately Managed Accounts: A Comprehensive Guide for Investors**\n\nAs an investor, you're likely familiar with traditional investment vehicles like mutual funds and exchange-traded funds (ETFs). However, there's another option that offers a high degree of customization and control: separately managed accounts (SMAs). In this blog post, we'll dive into the world of SMAs, exploring their benefits, how they differ from mutual funds and ETFs, and who they're best suited for.\n\n**What is a Separately Managed Account (SMA)?**\n\nA separately managed account is a portfolio of individual securities managed by an investment firm on an investor's behalf. Unlike mutual funds or ETFs, where investors own shares of the fund, SMAs allow investors to own the individual securities directly. This provides a high degree of transparency and control, as investors can customize their portfolio to meet their specific investment objectives and values.\n\n**Benefits of Separately Managed Accounts**\n\nSo, what are the benefits of SMAs? Here are a few:\n\n* **Customization**: SMAs allow investors to establish guidelines for managing their investments in line with their personal beliefs and needs. For instance, you could restrict investment in certain industries or companies that don't align with your values.\n* **Tax efficiency**: SMAs can provide greater tax efficiencies than mutual funds or ETFs, as investors can harvest losses and optimize their tax strategy.\n* **Transparency**: With an SMA, investors have direct ownership of individual securities, providing a clear picture of their portfolio holdings.\n* **Flexibility**: SMAs can be tailored to meet the specific needs of high-net-worth individuals, institutional investors, or family offices.\n\n**How do SMAs differ from Mutual Funds or ETFs?**\n\nThere are several key differences between SMAs and traditional investment vehicles like mutual funds and ETFs:\n\n* **Ownership**: With mutual funds or ETFs, investors own shares of the fund, not the individual securities inside. In contrast, SMAs allow investors to own the individual securities directly.\n* **Customization**: Mutual funds and ETFs are designed for a broad range of investors, while SMAs can be tailored to meet the specific needs of individual investors.\n* **Fees**: SMAs often come with higher management fees compared to mutual funds or ETFs, but offer a high degree of customization and control.\n\n**Who are Separately Managed Accounts best suited for?**\n\nSMAs are typically best suited for:\n\n* **High-net-worth individuals**: SMAs offer a high degree of customization and control, making them an attractive option for high-net-worth individuals who require tailored investment solutions.\n* **Institutional investors**: SMAs can be used by institutional investors, such as pension funds or endowments, to meet their specific investment objectives.\n* **Family offices**: SMAs can provide family offices with a customized investment solution that meets their unique needs and goals.\n\n**Direct Indexing through SMAs**\n\nDirect indexing is a strategy that involves owning individual stocks that make up a chosen index, rather than investing in a mutual fund or ETF that tracks the same index. SMAs can provide a direct indexing solution, offering greater autonomy, control, and tax advantages over traditional investment vehicles.\n\n**Conclusion**\n\nSeparately managed accounts offer a unique combination of customization, control, and tax efficiency that can be attractive to high-net-worth individuals, institutional investors, and family offices. While SMAs come with higher management fees compared to mutual funds or ETFs, they provide a high degree of flexibility and transparency that can be valuable for investors who require tailored investment solutions. As the investment landscape continues to evolve, SMAs are likely to play an increasingly important role in the world of investment management.\n\nWhether you're a seasoned investor or just starting to explore your investment options, it's essential to understand the benefits and drawbacks of SMAs. By considering your individual needs and goals, you can determine whether a separately managed account is right for you."
          },
          "metadata": {},
          "execution_count": 5
        }
      ]
    },
    {
      "cell_type": "code",
      "source": [],
      "metadata": {
        "id": "Ygl9p60WIOuY"
      },
      "execution_count": null,
      "outputs": []
    }
  ]
}