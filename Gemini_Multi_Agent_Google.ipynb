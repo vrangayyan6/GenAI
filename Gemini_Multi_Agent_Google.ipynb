{
  "metadata": {
    "kernelspec": {
      "language": "python",
      "display_name": "Python 3",
      "name": "python3"
    },
    "language_info": {
      "name": "python",
      "version": "3.11.11",
      "mimetype": "text/x-python",
      "codemirror_mode": {
        "name": "ipython",
        "version": 3
      },
      "pygments_lexer": "ipython3",
      "nbconvert_exporter": "python",
      "file_extension": ".py"
    },
    "kaggle": {
      "accelerator": "none",
      "dataSources": [
        {
          "sourceId": 97258,
          "sourceType": "competition"
        }
      ],
      "dockerImageVersionId": 31012,
      "isInternetEnabled": true,
      "language": "python",
      "sourceType": "notebook",
      "isGpuEnabled": false
    },
    "colab": {
      "provenance": [],
      "include_colab_link": true
    }
  },
  "nbformat_minor": 0,
  "nbformat": 4,
  "cells": [
    {
      "cell_type": "markdown",
      "metadata": {
        "id": "view-in-github",
        "colab_type": "text"
      },
      "source": [
        "<a href=\"https://colab.research.google.com/github/vrangayyan6/GenAI/blob/main/Gemini_Multi_Agent_Google.ipynb\" target=\"_parent\"><img src=\"https://colab.research.google.com/assets/colab-badge.svg\" alt=\"Open In Colab\"/></a>"
      ]
    },
    {
      "cell_type": "markdown",
      "source": [
        "# Using AI to Streamline Research for Content Creation\n",
        "## The Problem\n",
        "Content creators, researchers, and marketers face a significant challenge when developing comprehensive material on specialized topics. The traditional research process is both time-consuming and labor-intensive:\n",
        "\n",
        "- They must formulate effective search queries\n",
        "- Sift through numerous search results manually\n",
        "- Evaluate the relevance and credibility of sources\n",
        "- Extract and organize key information\n",
        "- Synthesize findings into coherent content\n",
        "- Repeat this process multiple times to fill knowledge gaps\n",
        "\n",
        "This workflow can take hours or even days, delaying content production and limiting the number of topics a team can cover effectively. For small teams or individual creators without research assistants, this bottleneck severely impacts productivity.\n",
        "\n",
        "## The Solution\n",
        "This notebook showcases how LangChain + LangGraph and other tools can be used to automate and optimize the research pipeline using agents ([see graph](https://drive.google.com/file/d/1qAq8IjjfSuVslKCnuHljdiVwcJXhlzZR/view?usp=drive_link))\n",
        "\n",
        "Key capabilities:\n",
        "\n",
        "- Query Optimization: The AI refines user queries to match search engine algorithms for better results (as shown in the format_search method)\n",
        "- Automated Information Gathering: Instead of manual searching, the AI conducts multiple search queries and aggregates the results\n",
        "- Intelligent Gap Analysis: The system evaluates the completeness of research and automatically identifies missing information (via the EditorAgent)\n",
        "- Iterative Research: The AI conducts multiple rounds of research until sufficient information is gathered, targeting different aspects of the topic with each iteration\n",
        "- Content Synthesis: When research is complete, the AI transforms raw research into well-structured content (via the WriterAgent)\n",
        "\n",
        "## Real-World Impact\n",
        "This AI-powered research workflow reduces what might take hours into minutes. Content creators can focus on refining and adding their unique perspective to AI-generated drafts rather than spending time on initial research and organization. The solution is particularly valuable for:\n",
        "\n",
        "- Marketing teams needing to create content across multiple product lines\n",
        "- Researchers exploring new domains quickly\n",
        "- Educational content creators covering diverse topics\n",
        "- Small businesses without dedicated research staff\n",
        "\n",
        "By increasing the number of search results (as you've requested), the system becomes even more effective, gathering a wider range of perspectives and information in each research iteration."
      ],
      "metadata": {
        "id": "WSdMCLZvRFuY"
      }
    },
    {
      "cell_type": "markdown",
      "source": [
        "## Environment Setup\n",
        "Before we dive in, we prepare a custom Python environment and install the required libraries:"
      ],
      "metadata": {
        "id": "LczQ23K9RFuZ"
      }
    },
    {
      "cell_type": "code",
      "source": [
        "# Create a custom install directory\n",
        "import os\n",
        "# import shutil\n",
        "# custom_path = \"/kaggle/working/custom_env\"\n",
        "# if os.path.isdir(custom_path):\n",
        "#     shutil.rmtree(custom_path)\n",
        "\n",
        "# os.makedirs(custom_path, exist_ok=True)\n",
        "\n",
        "# Install your desired packages into that path   --no-deps --target={custom_path}\n",
        "!pip install -q langchain_community langgraph langgraph-prebuilt \\\n",
        "langchain  langsmith langchain_experimental langchain-google-genai langchain-google-community \\\n",
        "google-search-results langgraph-checkpoint ormsgpack filetype langchain_core langgraph_sdk \\\n",
        "pyppeteer requests beautifulsoup4 xxhash\n",
        "\n",
        "# Prepend custom path to sys.path so Python loads from there\n",
        "# import sys\n",
        "# sys.path.insert(0, custom_path)"
      ],
      "metadata": {
        "trusted": true,
        "execution": {
          "iopub.status.busy": "2025-04-17T18:27:01.498701Z",
          "iopub.execute_input": "2025-04-17T18:27:01.498962Z",
          "iopub.status.idle": "2025-04-17T18:27:17.661292Z",
          "shell.execute_reply.started": "2025-04-17T18:27:01.498927Z",
          "shell.execute_reply": "2025-04-17T18:27:17.659994Z"
        },
        "id": "o7okiC4gRFua"
      },
      "outputs": [],
      "execution_count": 1
    },
    {
      "cell_type": "markdown",
      "source": [
        "## Configure API Keys\n",
        "We securely fetch API keys from Kaggle Secrets. You must add the following secrets in the Add-ons > Secrets menu:\n",
        "\n",
        "GOOGLESEARCH_API_KEY — for Google Search API\n",
        "\n",
        "GOOGLE_CSE_ID — Custom Search Engine ID\n",
        "\n",
        "LANGCHAIN_API_KEY — for LangChain’s services"
      ],
      "metadata": {
        "id": "HyMC9lYyRFub"
      }
    },
    {
      "cell_type": "code",
      "source": [
        "from google.colab import userdata\n",
        "\n",
        "os.environ[\"GOOGLE_API_KEY\"] = userdata.get(\"GOOGLESEARCH_API_KEY\")\n",
        "os.environ[\"GOOGLE_CSE_ID\"] = userdata.get(\"GOOGLE_CSE_ID\")\n",
        "os.environ[\"LANGCHAIN_API_KEY\"] = userdata.get('LANGCHAIN_API_KEY')"
      ],
      "metadata": {
        "trusted": true,
        "execution": {
          "iopub.status.busy": "2025-04-17T18:27:17.663424Z",
          "iopub.execute_input": "2025-04-17T18:27:17.663752Z",
          "iopub.status.idle": "2025-04-17T18:27:18.220491Z",
          "shell.execute_reply.started": "2025-04-17T18:27:17.663722Z",
          "shell.execute_reply": "2025-04-17T18:27:18.219531Z"
        },
        "id": "ikkgApmjRFub"
      },
      "outputs": [],
      "execution_count": 2
    },
    {
      "cell_type": "markdown",
      "source": [
        "## Enable Tracing\n",
        "LangChain offers an optional tracing feature that helps in debugging complex chains and workflows."
      ],
      "metadata": {
        "id": "bTtN9SkvRFub"
      }
    },
    {
      "cell_type": "code",
      "source": [
        "os.environ[\"LANGCHAIN_TRACING_V2\"] = \"true\""
      ],
      "metadata": {
        "trusted": true,
        "execution": {
          "iopub.status.busy": "2025-04-17T18:27:18.221368Z",
          "iopub.execute_input": "2025-04-17T18:27:18.221673Z",
          "iopub.status.idle": "2025-04-17T18:27:18.226782Z",
          "shell.execute_reply.started": "2025-04-17T18:27:18.221643Z",
          "shell.execute_reply": "2025-04-17T18:27:18.225798Z"
        },
        "id": "Tu85xhKIRFub"
      },
      "outputs": [],
      "execution_count": 3
    },
    {
      "cell_type": "markdown",
      "source": [
        "## Setup Data Storage\n",
        "We initialize a simple in-memory list to store results from the agent workflow:"
      ],
      "metadata": {
        "id": "0wN_LP9BRFuc"
      }
    },
    {
      "cell_type": "code",
      "source": [
        "final_result = []  # List to store results from each step of the process"
      ],
      "metadata": {
        "trusted": true,
        "execution": {
          "iopub.status.busy": "2025-04-17T18:27:18.227894Z",
          "iopub.execute_input": "2025-04-17T18:27:18.228142Z",
          "iopub.status.idle": "2025-04-17T18:27:18.250507Z",
          "shell.execute_reply.started": "2025-04-17T18:27:18.22812Z",
          "shell.execute_reply": "2025-04-17T18:27:18.249406Z"
        },
        "id": "jmIBj2oiRFuc"
      },
      "outputs": [],
      "execution_count": 4
    },
    {
      "cell_type": "markdown",
      "source": [
        "## Define Shared State\n",
        "We use a TypedDict class to define and track the shared state between agents. This makes it easier to debug and enforce consistency."
      ],
      "metadata": {
        "id": "5WuMwmtZRFuc"
      }
    },
    {
      "cell_type": "code",
      "source": [
        "from typing_extensions import TypedDict\n",
        "from typing import Annotated\n",
        "from langgraph.graph.message import add_messages\n",
        "\n",
        "class State(TypedDict):\n",
        "    \"\"\"\n",
        "    Manages the workflow's shared state as it moves between agents.\n",
        "\n",
        "    Fields:\n",
        "        query (list): History of query messages (as LangGraph messages)\n",
        "        url (list): Links returned from the research agent\n",
        "        research (list): Results returned from the research agent\n",
        "        content (str): The generated blog post content\n",
        "        content_ready (bool): Flag indicating if the content is complete\n",
        "        iteration_count (int): Number of times the research step has run\n",
        "    \"\"\"\n",
        "    query: Annotated[list, add_messages]\n",
        "    url: Annotated[list, add_messages]\n",
        "    research: Annotated[list, add_messages]\n",
        "    content: str\n",
        "    content_ready: bool\n",
        "    iteration_count: int"
      ],
      "metadata": {
        "trusted": true,
        "execution": {
          "iopub.status.busy": "2025-04-17T18:27:18.252922Z",
          "iopub.execute_input": "2025-04-17T18:27:18.253237Z",
          "iopub.status.idle": "2025-04-17T18:27:19.912115Z",
          "shell.execute_reply.started": "2025-04-17T18:27:18.25321Z",
          "shell.execute_reply": "2025-04-17T18:27:19.910845Z"
        },
        "id": "zAlpMUDsRFuc"
      },
      "outputs": [],
      "execution_count": 5
    },
    {
      "cell_type": "markdown",
      "source": [
        "## Initialize the Language Model\n",
        "We use Google's Gemini model via LangChain’s wrapper."
      ],
      "metadata": {
        "id": "nv84AfKHRFuc"
      }
    },
    {
      "cell_type": "code",
      "source": [
        "from langchain_google_genai import ChatGoogleGenerativeAI\n",
        "\n",
        "llm = ChatGoogleGenerativeAI(model=\"gemini-2.0-flash\")"
      ],
      "metadata": {
        "trusted": true,
        "execution": {
          "iopub.status.busy": "2025-04-17T18:27:19.913289Z",
          "iopub.execute_input": "2025-04-17T18:27:19.913783Z",
          "iopub.status.idle": "2025-04-17T18:27:21.838412Z",
          "shell.execute_reply.started": "2025-04-17T18:27:19.913755Z",
          "shell.execute_reply": "2025-04-17T18:27:21.837235Z"
        },
        "id": "nFuPXIVHRFuc"
      },
      "outputs": [],
      "execution_count": 6
    },
    {
      "cell_type": "markdown",
      "source": [
        "## Research Agent\n",
        "format_search(): Uses Gemini to transform natural queries into more search-optimized forms.\n",
        "\n",
        "search(): Executes a search via GoogleSearchRun and stores results in state.\n",
        "\n",
        "🔁 Iteration results are logged in final_result for each loop of query → search."
      ],
      "metadata": {
        "id": "0akRtK08RFuc"
      }
    },
    {
      "cell_type": "code",
      "source": [
        "import time\n",
        "from langchain_google_community import GoogleSearchAPIWrapper\n",
        "# from langchain_google_community import GoogleSearchRun\n",
        "# from googlesearch import search\n",
        "from langchain_core.messages import HumanMessage\n",
        "import requests\n",
        "from bs4 import BeautifulSoup\n",
        "\n",
        "class ResearchAgent:\n",
        "    \"\"\"\n",
        "    Agent responsible for optimizing search queries and fetching research results.\n",
        "    Acts as the initial step in the blog post creation workflow.\n",
        "    \"\"\"\n",
        "    def format_search(self, query: str) -> str:\n",
        "        \"\"\"\n",
        "        Optimizes a search query to improve search result relevance.\n",
        "\n",
        "        Args:\n",
        "            query (str): The original search query provided by the user\n",
        "\n",
        "        Returns:\n",
        "            str: An optimized version of the query for better search results\n",
        "        \"\"\"\n",
        "        prompt = (\n",
        "            \"You are an expert at optimizing search queries for Google. \"\n",
        "            \"Your task is to take a given query and return an optimized version of it, making it more likely to yield relevant results. \"\n",
        "            \"Do not include any explanations or extra text, only the optimized query.\\n\\n\"\n",
        "            \"Example:\\n\"\n",
        "            \"Original: best laptop 2023 for programming\\n\"\n",
        "            \"Optimized: top laptops 2023 for coding\\n\\n\"\n",
        "            \"Example:\\n\"\n",
        "            \"Original: how to train a puppy not to bite\\n\"\n",
        "            \"Optimized: puppy training tips to prevent biting\\n\\n\"\n",
        "            \"Now optimize the following query:\\n\"\n",
        "            f\"Original: {query}\\n\"\n",
        "            \"Optimized:\"\n",
        "        )\n",
        "\n",
        "        response = llm.invoke(prompt)  # Use LLM to optimize the query\n",
        "        return response.content\n",
        "\n",
        "    def fetch_full_content(self, url: str) -> str:\n",
        "        try:\n",
        "            headers = {'User-Agent': 'Mozilla/5.0 (Windows NT 10.0; Win64; x64) AppleWebKit/537.36 (KHTML, like Gecko) Chrome/123.0.0.0 Safari/537.36'}\n",
        "            response = requests.get(url, headers=headers, timeout=30)\n",
        "            response.raise_for_status()  # Raise an exception for bad status codes\n",
        "            soup = BeautifulSoup(response.content, 'html.parser')\n",
        "            # Extract text content - you might need to adjust the selectors\n",
        "            text_parts = soup.find_all('p')  # get all paragraph text\n",
        "            full_text = \"\\n\".join([part.get_text() for part in text_parts])\n",
        "            if not full_text.strip():\n",
        "                full_text = soup.get_text()[:5000]\n",
        "            return f\"{full_text[:5000]} \" # Limit content length\n",
        "        except requests.exceptions.RequestException as e:\n",
        "            return f\"URL: {url}\\nError fetching content: {e}\"\n",
        "        except Exception as e:\n",
        "            return f\"URL: {url}\\nError parsing content: {e}\"\n",
        "\n",
        "    def search(self, state: State):\n",
        "        \"\"\"\n",
        "        Performs a Google search using the optimized query and updates the state.\n",
        "\n",
        "        Args:\n",
        "            state (State): Current workflow state containing the query\n",
        "\n",
        "        Returns:\n",
        "            dict: Updated state with research results\n",
        "        \"\"\"\n",
        "        # Initialize the Google Search API wrapper first\n",
        "        search_wrapper = GoogleSearchAPIWrapper(k=10)  # Configure to return top 10 results\n",
        "\n",
        "        # Track execution time for performance monitoring\n",
        "        start_time = time.perf_counter()\n",
        "        optimized_query = self.format_search(state.get('query', \"\")[-1].content)  # Get and optimize the latest query\n",
        "        end_time = time.perf_counter()\n",
        "\n",
        "        raw_results = search_wrapper.results(optimized_query, 1)  # Execute the search\n",
        "\n",
        "        if raw_results and raw_results[0].get('link'):\n",
        "            url = raw_results[0]['link']\n",
        "            full_content = self.fetch_full_content(url)\n",
        "            time.sleep(1) # Be respectful of website rate limits\n",
        "        else:\n",
        "            full_content = \"No content found\"\n",
        "            url = \"No url found\"\n",
        "\n",
        "        # Record this iteration's results for logging/debugging\n",
        "        final_result.append({\"subheader\": f\"Research Iteration\", \"content\": [raw_results], \"time\": end_time - start_time})\n",
        "\n",
        "        return {\"research\": full_content, \"url\": url, \"query\": optimized_query}  # Return updated state"
      ],
      "metadata": {
        "trusted": true,
        "execution": {
          "iopub.status.busy": "2025-04-17T18:27:21.839612Z",
          "iopub.execute_input": "2025-04-17T18:27:21.840236Z",
          "iopub.status.idle": "2025-04-17T18:27:23.416362Z",
          "shell.execute_reply.started": "2025-04-17T18:27:21.840199Z",
          "shell.execute_reply": "2025-04-17T18:27:23.414998Z"
        },
        "id": "76TOM6ixRFuc"
      },
      "outputs": [],
      "execution_count": 7
    },
    {
      "cell_type": "markdown",
      "source": [
        "## Editor Agent\n",
        "- Uses Gemini to inspect accumulated research.\n",
        "\n",
        "- If results are sufficient, it sets content_ready = True.\n",
        "\n",
        "- If insufficient, it generates a new improved query and continues the loop.\n",
        "\n",
        "🔐 Includes a hard limit of 10 iterations to prevent infinite loops."
      ],
      "metadata": {
        "id": "DECJGsxLRFud"
      }
    },
    {
      "cell_type": "code",
      "source": [
        "class EditorAgent:\n",
        "    \"\"\"\n",
        "    Agent responsible for evaluating research results and determining if more research is needed.\n",
        "    Acts as the decision-making component in the workflow.\n",
        "    \"\"\"\n",
        "    def evaluate_research(self, state: State):\n",
        "        \"\"\"\n",
        "        Evaluates if the current research is sufficient to write a comprehensive blog post.\n",
        "\n",
        "        Args:\n",
        "            state (State): Current workflow state containing queries and research\n",
        "\n",
        "        Returns:\n",
        "            dict: Updated state with evaluation results and either content_ready flag or new query\n",
        "        \"\"\"\n",
        "        # Combine all existing queries and research results\n",
        "        query = '\\n'.join(message.content for message in state.get(\"query\"))\n",
        "        research = '\\n'.join(message.content for message in state.get(\"research\"))\n",
        "\n",
        "        # Track iteration count to prevent infinite loops\n",
        "        iteration_count = state.get(\"iteration_count\", 1)\n",
        "\n",
        "        if iteration_count is None:\n",
        "            iteration_count = 1\n",
        "\n",
        "        # Hard limit of 10 iterations to prevent endless loops\n",
        "        if iteration_count >= 11:\n",
        "            return {\"content_ready\": True}  # Force completion after 10 iterations\n",
        "\n",
        "        prompt = (\n",
        "            \"You are an expert editor. Your task is to evaluate the research based on the query. \"\n",
        "            \"If the information is sufficient to create a comprehensive and accurate blog post, respond with 'sufficient'. \"\n",
        "            \"If the information is not sufficient, respond with 'insufficient' and provide a new, creative query suggestion to improve the results. \"\n",
        "            \"If the research results appear repetitive or not diverse enough, think about a very different kind of question that could yield more varied and relevant information. \"\n",
        "            \"Consider the depth, relevance, and completeness of the information when making your decision.\\n\\n\"\n",
        "            \"Example 1:\\n\"\n",
        "            \"Used queries: What are the benefits of a Mediterranean diet?\\n\"\n",
        "            \"Research: The Mediterranean diet includes fruits, vegetables, whole grains, and healthy fats.\\n\"\n",
        "            \"Evaluation: Insufficient\\n\"\n",
        "            \"New query: Detailed health benefits of a Mediterranean diet\\n\\n\"\n",
        "            \"Example 2:\\n\"\n",
        "            \"Used queries: How does solar power work?\\n\"\n",
        "            \"Research: Solar power works by converting sunlight into electricity using photovoltaic cells.\\n\"\n",
        "            \"Evaluation: Sufficient\\n\\n\"\n",
        "            \"Example 3:\\n\"\n",
        "            \"Used queries: Effects of climate change on polar bears?\\n\"\n",
        "            \"Research: Climate change is reducing sea ice, affecting polar bear habitats.\\n\"\n",
        "            \"Evaluation: Insufficient\\n\"\n",
        "            \"New query: How are polar bears adapting to the loss of sea ice due to climate change?\\n\\n\"\n",
        "            \"Now evaluate the following:\\n\"\n",
        "            f\"Used queries: {query}\\n\"\n",
        "            f\"Research: {research}\\n\\n\"\n",
        "            \"Evaluation (sufficient/insufficient):\\n\"\n",
        "            \"New query (if insufficient):\"\n",
        "        )\n",
        "\n",
        "        # Track execution time for performance monitoring\n",
        "        start_time = time.perf_counter()\n",
        "        response = llm.invoke(prompt)  # Use LLM to evaluate research quality\n",
        "        end_time = time.perf_counter()\n",
        "\n",
        "        evaluation = response.content.strip()\n",
        "\n",
        "        # Record this iteration's evaluation for logging/debugging\n",
        "        final_result.append({\"subheader\": f\"Editor Evaluation Iteration\", \"content\": evaluation, \"time\": end_time - start_time})\n",
        "\n",
        "        # Parse response to determine next steps\n",
        "        if \"new query:\" in evaluation.lower():\n",
        "            # Extract new query suggestion if research is insufficient\n",
        "            new_query = evaluation.split(\"New query:\", 1)[-1].strip()\n",
        "            return {\"query\": [new_query], \"iteration_count\": iteration_count + 1, \"evaluation\": evaluation}\n",
        "        else:\n",
        "            # Research is sufficient, proceed to content creation\n",
        "            return {\"content_ready\": True, \"evaluation\": evaluation}"
      ],
      "metadata": {
        "trusted": true,
        "execution": {
          "iopub.status.busy": "2025-04-17T18:27:23.417618Z",
          "iopub.execute_input": "2025-04-17T18:27:23.418315Z",
          "iopub.status.idle": "2025-04-17T18:27:23.429401Z",
          "shell.execute_reply.started": "2025-04-17T18:27:23.418268Z",
          "shell.execute_reply": "2025-04-17T18:27:23.428316Z"
        },
        "id": "Hf_TjGjMRFud"
      },
      "outputs": [],
      "execution_count": 8
    },
    {
      "cell_type": "markdown",
      "source": [
        "## Writer Agent\n",
        "- Combines query and research into a single blog post.\n",
        "\n",
        "- Uses Gemini to generate detailed, structured content (intro, body, conclusion)."
      ],
      "metadata": {
        "id": "TPZzwgciRFud"
      }
    },
    {
      "cell_type": "code",
      "source": [
        "class WriterAgent:\n",
        "    \"\"\"\n",
        "    Agent responsible for writing the final blog post based on the research.\n",
        "    Acts as the final step in the workflow once research is deemed sufficient.\n",
        "    \"\"\"\n",
        "    def write_blogpost(self, state: State):\n",
        "        \"\"\"\n",
        "        Generates a comprehensive blog post based on the query and research.\n",
        "\n",
        "        Args:\n",
        "            state (State): Current workflow state containing query and research data\n",
        "\n",
        "        Returns:\n",
        "            dict: Updated state with the final blog post content\n",
        "        \"\"\"\n",
        "        query = state.get(\"query\")[0].content  if isinstance(state.get(\"query\", [\"\"]), list) else state.get(\"query\", \"\") # Get the original query\n",
        "        research = \"\\n\".join([f\"[{i+1}] {message.content} \\n\" for i, message in enumerate(state.get(\"research\", []))])  # Combine all research results\n",
        "        references = \"\\n\".join([f\"[{i+1}] {message.content} \\n\" for i, message in enumerate(state.get(\"url\", []))])\n",
        "\n",
        "        prompt = (\n",
        "            \"You are an expert blog post writer. Your task is to take a given query and context, and write a comprehensive, engaging, and informative short blog post about it. \"\n",
        "            \"Make sure to include an introduction, main body with detailed information, and a conclusion. Use a friendly and accessible tone, and ensure the content is well-structured and easy to read. \"\n",
        "            \"Apply best practices to cite the sources you used by referring to the number in the square brackets. \"\n",
        "            \"Add the References section at the bottom of the blog post.\"\n",
        "            \"Do not add anything other content not in the sources.\\n\\n\"\n",
        "            f\"Query: {query}\\n\\n\"\n",
        "            f\"Context:\\n{research}\\n\\n\"\n",
        "            f\"**References:**\\n{references}\"\n",
        "            \"Write a detailed and engaging blog post based on the above query and context.\"\n",
        "        )\n",
        "\n",
        "        response = llm.invoke(prompt)  # Use LLM to generate the blog post\n",
        "\n",
        "        return {\"content\": response.content}"
      ],
      "metadata": {
        "trusted": true,
        "execution": {
          "iopub.status.busy": "2025-04-17T18:27:23.430315Z",
          "iopub.execute_input": "2025-04-17T18:27:23.430706Z",
          "iopub.status.idle": "2025-04-17T18:27:23.467981Z",
          "shell.execute_reply.started": "2025-04-17T18:27:23.430672Z",
          "shell.execute_reply": "2025-04-17T18:27:23.466565Z"
        },
        "id": "ANX0balnRFud"
      },
      "outputs": [],
      "execution_count": 9
    },
    {
      "cell_type": "markdown",
      "source": [
        "## Define the LangGraph\n",
        "🔄 This creates a loop between search_agent → editor_agent → (search or writer)."
      ],
      "metadata": {
        "id": "mUYUG_n1RFud"
      }
    },
    {
      "cell_type": "code",
      "source": [
        "from langgraph.graph import StateGraph, START, END\n",
        "\n",
        "# Initialize the StateGraph\n",
        "graph = StateGraph(State)  # Create workflow graph using the State class as schema\n",
        "\n",
        "# Add agent nodes to the graph\n",
        "graph.add_node(\"search_agent\", ResearchAgent().search)  # Research node\n",
        "graph.add_node(\"writer_agent\", WriterAgent().write_blogpost)  # Writer node\n",
        "graph.add_node(\"editor_agent\", EditorAgent().evaluate_research)  # Editor node\n",
        "\n",
        "# Set the entry point of the workflow\n",
        "graph.set_entry_point(\"search_agent\")  # Start with search\n",
        "\n",
        "# Add direct edge from search to editor\n",
        "graph.add_edge(\"search_agent\", \"editor_agent\")\n",
        "\n",
        "# Add conditional edges from editor based on research evaluation\n",
        "graph.add_conditional_edges(\n",
        "    \"editor_agent\",\n",
        "    lambda state: \"accept\" if state.get(\"content_ready\") else \"revise\",  # Decision function\n",
        "    {\n",
        "        \"accept\": \"writer_agent\",  # If research is sufficient, proceed to writing\n",
        "        \"revise\": \"search_agent\"   # If more research needed, loop back to search\n",
        "    }\n",
        ")\n",
        "\n",
        "# Add edge from writer to end the workflow\n",
        "graph.add_edge(\"writer_agent\", END)\n",
        "\n",
        "# Compile the graph to make it executable\n",
        "graph = graph.compile()"
      ],
      "metadata": {
        "trusted": true,
        "execution": {
          "iopub.status.busy": "2025-04-17T18:27:23.46915Z",
          "iopub.execute_input": "2025-04-17T18:27:23.4695Z",
          "iopub.status.idle": "2025-04-17T18:27:23.506167Z",
          "shell.execute_reply.started": "2025-04-17T18:27:23.469469Z",
          "shell.execute_reply": "2025-04-17T18:27:23.505104Z"
        },
        "id": "AF5vljU9RFud"
      },
      "outputs": [],
      "execution_count": 10
    },
    {
      "cell_type": "markdown",
      "source": [
        "The following code renders the graph. ([see graph rendered on https://mermaid.live/](https://drive.google.com/file/d/1qAq8IjjfSuVslKCnuHljdiVwcJXhlzZR/view?usp=drive_link))"
      ],
      "metadata": {
        "id": "ycDPcw__RFud"
      }
    },
    {
      "cell_type": "code",
      "source": [
        "from IPython.display import Image\n",
        "\n",
        "Image(graph.get_graph().draw_mermaid_png())"
      ],
      "metadata": {
        "trusted": true,
        "execution": {
          "iopub.status.busy": "2025-04-17T18:27:23.507185Z",
          "iopub.execute_input": "2025-04-17T18:27:23.507492Z",
          "iopub.status.idle": "2025-04-17T18:27:25.179647Z",
          "shell.execute_reply.started": "2025-04-17T18:27:23.507469Z",
          "shell.execute_reply": "2025-04-17T18:27:25.178593Z"
        },
        "id": "gwwz57FHRFud",
        "colab": {
          "base_uri": "https://localhost:8080/",
          "height": 497
        },
        "outputId": "c19d00bf-7d57-44c0-8a2d-a4b694573c9a"
      },
      "outputs": [
        {
          "output_type": "execute_result",
          "data": {
            "image/png": "[encoded data removed]",
            "text/plain": [
              "<IPython.core.display.Image object>"
            ]
          },
          "metadata": {},
          "execution_count": 11
        }
      ],
      "execution_count": 11
    },
    {
      "cell_type": "markdown",
      "source": [
        "## Main Invocation Function\n",
        "This function:\n",
        "\n",
        "- Starts the LangGraph with the user’s query\n",
        "\n",
        "- Automatically loops through agents until content_ready\n",
        "\n",
        "- Returns the final blog post"
      ],
      "metadata": {
        "id": "PqncRJ2mRFud"
      }
    },
    {
      "cell_type": "code",
      "source": [
        "def invoke_graph(user_prompt):\n",
        "    \"\"\"\n",
        "    Main function to execute the entire blog post generation workflow.\n",
        "\n",
        "    Args:\n",
        "        user_prompt (str): The initial user query to research and write about\n",
        "\n",
        "    Returns:\n",
        "        str: The final blog post content\n",
        "    \"\"\"\n",
        "    # Track total execution time\n",
        "    start_time = time.perf_counter()\n",
        "    blogpost = graph.invoke({\"query\": user_prompt})  # Start the workflow with user prompt\n",
        "    end_time = time.perf_counter()\n",
        "    print(f\"Total time in completing the workflow: {end_time - start_time} seconds\\n\\n\")  # Add spacing for readability in console output\n",
        "    return blogpost[\"content\"]  # Return the final blog post content"
      ],
      "metadata": {
        "trusted": true,
        "execution": {
          "iopub.status.busy": "2025-04-17T18:27:25.180642Z",
          "iopub.execute_input": "2025-04-17T18:27:25.181484Z",
          "iopub.status.idle": "2025-04-17T18:27:25.188534Z",
          "shell.execute_reply.started": "2025-04-17T18:27:25.181444Z",
          "shell.execute_reply": "2025-04-17T18:27:25.187232Z"
        },
        "id": "1sThQQ6PRFud"
      },
      "outputs": [],
      "execution_count": 12
    },
    {
      "cell_type": "markdown",
      "source": [
        "## Provide your prompt"
      ],
      "metadata": {
        "id": "4nrzTgd9RFud"
      }
    },
    {
      "cell_type": "code",
      "source": [
        "user_prompt = \"Act as an expert in Financial Services, explain in detail on separately managed accounts using 5000 words or more.\""
      ],
      "metadata": {
        "trusted": true,
        "execution": {
          "iopub.status.busy": "2025-04-17T18:27:25.190192Z",
          "iopub.execute_input": "2025-04-17T18:27:25.190492Z",
          "iopub.status.idle": "2025-04-17T18:27:25.212325Z",
          "shell.execute_reply.started": "2025-04-17T18:27:25.190469Z",
          "shell.execute_reply": "2025-04-17T18:27:25.211278Z"
        },
        "id": "SwYDeWrbRFud"
      },
      "outputs": [],
      "execution_count": 13
    },
    {
      "cell_type": "markdown",
      "source": [
        "## View response\n",
        "You will see the Google search results in the first section, and the blogpost generated in the next."
      ],
      "metadata": {
        "id": "jEockocbRFud"
      }
    },
    {
      "cell_type": "code",
      "source": [
        "from IPython.display import Markdown\n",
        "\n",
        "Markdown(invoke_graph(user_prompt))"
      ],
      "metadata": {
        "trusted": true,
        "execution": {
          "iopub.status.busy": "2025-04-17T18:27:25.214807Z",
          "iopub.execute_input": "2025-04-17T18:27:25.215184Z",
          "iopub.status.idle": "2025-04-17T18:27:32.880719Z",
          "shell.execute_reply.started": "2025-04-17T18:27:25.215146Z",
          "shell.execute_reply": "2025-04-17T18:27:32.879796Z"
        },
        "id": "DSV2t70mRFud",
        "colab": {
          "base_uri": "https://localhost:8080/",
          "height": 1000
        },
        "outputId": "27a97c1f-2472-4624-8c88-937aac4b4e2c"
      },
      "outputs": [
        {
          "output_type": "stream",
          "name": "stderr",
          "text": [
            "WARNING:bs4.dammit:Some characters could not be decoded, and were replaced with REPLACEMENT CHARACTER.\n",
            "WARNING:bs4.dammit:Some characters could not be decoded, and were replaced with REPLACEMENT CHARACTER.\n",
            "WARNING:bs4.dammit:Some characters could not be decoded, and were replaced with REPLACEMENT CHARACTER.\n"
          ]
        },
        {
          "output_type": "stream",
          "name": "stdout",
          "text": [
            "Total time in completing the workflow: 83.3635227530001 seconds\n",
            "\n",
            "\n"
          ]
        },
        {
          "output_type": "execute_result",
          "data": {
            "text/plain": [
              "<IPython.core.display.Markdown object>"
            ],
            "text/markdown": "## Diving Deep into Separately Managed Accounts (SMAs): A Comprehensive Guide\n\nIn the world of financial services, investors are constantly seeking personalized and tax-efficient ways to manage their wealth. One such avenue is the Separately Managed Account (SMA). But what exactly is an SMA, and how does it work? Let's delve into the details of SMAs, exploring their features, benefits, and suitability for different investors.\n\n### What is a Separately Managed Account (SMA)?\n\nA Separately Managed Account (SMA) is a portfolio of individual securities managed by a professional investment firm on behalf of an individual investor [4, 5]. Unlike mutual funds or Exchange-Traded Funds (ETFs), where investors own shares of a fund, in an SMA, the investor directly owns the individual securities within the portfolio [5]. This direct ownership is a key differentiator, offering a range of potential benefits.\n\nFinancial services providers are using several terms in addition to direct indexing to describe this technology, including personalized indexing and custom indexing [9].\n\n### Key Features of Separately Managed Accounts:\n\n1.  **Customization:**\n    *   SMAs offer a high degree of personalization [5]. Portfolios can be tailored to align with an investor's specific financial goals, risk tolerance, and even values [3, 5, 9].\n    *   Investors can impose restrictions on the purchase of certain securities, customizing the portfolio to meet their unique requirements [4].\n    *   This personalization extends to various aspects, such as factor tilts, sector exclusions, or alignment with specific values [5]. Fixed income investors can customize around duration, credit quality, or state specificity [5].\n2.  **Direct Ownership:**\n    *   As the investor directly owns the securities, they have more control and transparency over the portfolio's holdings [4, 5].\n    *   This direct ownership unlocks opportunities for tax management that are not available with mutual funds or ETFs [9].\n3.  **Professional Management:**\n    *   SMAs provide access to institutional-quality money managers [4]. These managers bring expertise in security selection, portfolio construction, and ongoing monitoring.\n    *   Firms conduct in-depth manager research to select some of the world's best institutional investment managers [4].\n4.  **Tax Efficiency:**\n    *   SMAs offer potential for tax-loss harvesting, a strategy that can improve after-tax returns [3, 5, 6, 9].\n    *   Tax-loss harvesting involves selling securities that have declined in value to realize capital losses [6]. These losses can then be used to offset capital gains, reducing overall tax liability [3, 5, 6, 9].\n    *   SMAs provide the flexibility to fund accounts with existing securities, allowing investors to shift portfolios to a new strategy without the tax cost of liquidating highly appreciated securities [5].\n5.  **Transparency:**\n    *   Investors have a clear view of the securities held within their SMA [5]. This transparency allows for a better understanding of the portfolio's composition and performance.\n\n### Benefits of Separately Managed Accounts:\n\n1.  **Personalized Investment Experience:**\n    *   SMAs offer a personalized investment experience, tailoring the portfolio to an investor's unique goals, needs, tax situation, and risk profile [3].\n2.  **Potential for Tax Alpha:**\n    *   Active tax management strategies, such as tax-loss harvesting, can generate \"tax alpha,\" enhancing after-tax returns [3, 9].\n    *   The ability to harvest losses at the individual security level, even in a rising market, can lead to significant tax benefits [9].\n3.  **Flexibility and Control:**\n    *   Investors have greater flexibility and control over their investments compared to pooled investment vehicles [4, 5].\n    *   They can express their preferences and values through customized portfolio construction [5].\n4.  **Access to Institutional Expertise:**\n    *   SMAs provide access to professional money managers and their expertise [4].\n    *   Investors benefit from the manager's research, selection, and monitoring of investments [4].\n\n### Tax-Loss Harvesting in Detail:\n\nTax-loss harvesting is a key strategy employed within SMAs to enhance after-tax returns [3, 5, 6, 9]. Here's a closer look at how it works:\n\n1.  **Identifying Losses:**\n    *   The investment manager regularly scans the portfolio for securities that have declined in value below their cost basis [9].\n2.  **Realizing Losses:**\n    *   The manager sells the losing securities, \"harvesting\" the capital loss [3, 6, 9].\n3.  **Repurchasing Replacements:**\n    *   To maintain the desired asset allocation and market exposure, the manager immediately repurchases correlated, but not \"substantially identical,\" replacement securities [9]. This step is crucial to avoid violating the \"wash-sale rule,\" which disallows the deduction of a loss if the same or a substantially identical security is repurchased within 30 days [9].\n4.  **Offsetting Gains:**\n    *   The realized capital losses can be used to offset capital gains realized within the portfolio or even gains from outside sources [3, 5, 6, 9].\n    *   In the U.S., capital losses can also offset up to $3,000 of ordinary income per year [6, 9]. Any remaining losses can be carried forward to future tax years [9].\n\n**Example:**\nImagine an investor holds Security A, purchased for $10,000. It declines in value to $7,000. The manager harvests the $3,000 loss and immediately reinvests the proceeds in Security B, with similar characteristics. Later, Security B is sold for $10,000, resulting in a $3,000 gain. While the investor ultimately breaks even on the investment, the $3,000 loss could have been used to offset other capital gains, resulting in a tax benefit [6].\n\n### Who Benefits from SMAs?\n\nSMAs are not a one-size-fits-all solution [5]. They are generally best suited for:\n\n1.  **High-Net-Worth Individuals:**\n    *   SMAs typically have higher account minimums, making them more accessible to wealthier investors [5, 9].\n    *   High-net-worth individuals often have more complex financial situations and can benefit from the personalized investment management and tax optimization offered by SMAs [3, 5].\n2.  **Tax-Conscious Investors:**\n    *   Investors seeking to minimize their tax liabilities can benefit from the tax-loss harvesting strategies employed within SMAs [3, 5, 6, 9].\n3.  **Investors with Specific Preferences:**\n    *   Those who want to align their investments with their values or have specific investment restrictions can leverage the customization options available with SMAs [5].\n4.  **Investors Seeking Transparency and Control:**\n    *   The direct ownership and transparency of SMAs appeal to investors who want a clear understanding of their portfolio holdings and greater control over investment decisions [4, 5].\n\n### Potential Drawbacks of SMAs:\n\n1.  **Higher Costs:**\n    *   SMAs typically have higher fees compared to mutual funds or ETFs [5].\n2.  **Account Minimums:**\n    *   The higher account minimums can be a barrier to entry for some investors [5, 9].\n3.  **Complexity:**\n    *   Managing individual securities can be more complex than investing in a diversified fund [5].\n4.  **Potential for Tracking Error:**\n    *   If an SMA is designed to track a specific index, there may be some deviation in performance due to the customization and tax-loss harvesting activities [3].\n\n### Direct Indexing with ETFs\nFor taxable clients, the best way to direct index is through ETFs that are tailored to provide the desired market exposure plus tax benefits [3]. The active tax management discipline aims to deliver tax efficiency through a loss capture process that is designed to help offset both capital gains within the portfolios and realized gains outside of the portfolios [3].\n\n### Conclusion:\n\nSeparately Managed Accounts offer a compelling combination of personalization, tax efficiency, and professional management. While they may not be suitable for every investor, SMAs can be a valuable tool for high-net-worth individuals and others seeking a more tailored and tax-optimized investment experience. As always, it's crucial to consult with a qualified financial advisor to determine if an SMA is the right choice for your individual circumstances."
          },
          "metadata": {},
          "execution_count": 14
        }
      ],
      "execution_count": 14
    },
    {
      "cell_type": "code",
      "source": [],
      "metadata": {
        "trusted": true,
        "id": "5yfZSV6rRFue"
      },
      "outputs": [],
      "execution_count": 14
    },
    {
      "cell_type": "markdown",
      "source": [
        "# Blogpost for Gen AI Intensive Course Capstone 2025Q1\n",
        "This is the link to the blogpost https://www.linkedin.com/pulse/supercharging-content-creation-ai-research-agents-vinod-v--pwjte"
      ],
      "metadata": {
        "id": "EcDWmWdpRFue"
      }
    },
    {
      "cell_type": "markdown",
      "source": [
        "# YouTube video\n",
        "This is the link to the YouTube video https://youtu.be/XUpenymdGDQ"
      ],
      "metadata": {
        "id": "WzyHTKPSRFue"
      }
    },
    {
      "cell_type": "code",
      "source": [],
      "metadata": {
        "trusted": true,
        "id": "W0BMrNtbRFue"
      },
      "outputs": [],
      "execution_count": 14
    }
  ]
}