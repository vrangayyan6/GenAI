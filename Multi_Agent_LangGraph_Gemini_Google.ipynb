{
  "cells": [
    {
      "cell_type": "markdown",
      "metadata": {
        "id": "view-in-github",
        "colab_type": "text"
      },
      "source": [
        "<a href=\"https://colab.research.google.com/github/vrangayyan6/GenAI/blob/main/Multi_Agent_LangGraph_Gemini_Google.ipynb\" target=\"_parent\"><img src=\"https://colab.research.google.com/assets/colab-badge.svg\" alt=\"Open In Colab\"/></a>"
      ]
    },
    {
      "cell_type": "markdown",
      "metadata": {
        "id": "WSdMCLZvRFuY"
      },
      "source": [
        "# Using AI to Streamline Research for Content Creation\n",
        "## The Problem\n",
        "Content creators, researchers, and marketers face a significant challenge when developing comprehensive material on specialized topics. The traditional research process is both time-consuming and labor-intensive:\n",
        "\n",
        "- They must formulate effective search queries\n",
        "- Sift through numerous search results manually\n",
        "- Evaluate the relevance and credibility of sources\n",
        "- Extract and organize key information\n",
        "- Synthesize findings into coherent content\n",
        "- Repeat this process multiple times to fill knowledge gaps\n",
        "\n",
        "This workflow can take hours or even days, delaying content production and limiting the number of topics a team can cover effectively. For small teams or individual creators without research assistants, this bottleneck severely impacts productivity.\n",
        "\n",
        "## The Solution\n",
        "This notebook showcases how LangChain + LangGraph and other tools can be used to automate and optimize the research pipeline using agents ([see graph](https://drive.google.com/file/d/1qAq8IjjfSuVslKCnuHljdiVwcJXhlzZR/view?usp=drive_link))\n",
        "\n",
        "Key capabilities:\n",
        "\n",
        "- Query Optimization: The AI refines user queries to match search engine algorithms for better results (as shown in the format_search method)\n",
        "- Automated Information Gathering: Instead of manual searching, the AI conducts multiple search queries and aggregates the results\n",
        "- Intelligent Gap Analysis: The system evaluates the completeness of research and automatically identifies missing information (via the EditorAgent)\n",
        "- Iterative Research: The AI conducts multiple rounds of research until sufficient information is gathered, targeting different aspects of the topic with each iteration\n",
        "- Content Synthesis: When research is complete, the AI transforms raw research into well-structured content (via the WriterAgent)\n",
        "\n",
        "## Real-World Impact\n",
        "This AI-powered research workflow reduces what might take hours into minutes. Content creators can focus on refining and adding their unique perspective to AI-generated drafts rather than spending time on initial research and organization. The solution is particularly valuable for:\n",
        "\n",
        "- Marketing teams needing to create content across multiple product lines\n",
        "- Researchers exploring new domains quickly\n",
        "- Educational content creators covering diverse topics\n",
        "- Small businesses without dedicated research staff\n",
        "\n",
        "By increasing the number of search results (as you've requested), the system becomes even more effective, gathering a wider range of perspectives and information in each research iteration."
      ]
    },
    {
      "cell_type": "markdown",
      "metadata": {
        "id": "LczQ23K9RFuZ"
      },
      "source": [
        "## Environment Setup\n",
        "Before we dive in, we prepare a custom Python environment and install the required libraries:"
      ]
    },
    {
      "cell_type": "code",
      "execution_count": 1,
      "metadata": {
        "id": "o7okiC4gRFua"
      },
      "outputs": [],
      "source": [
        "# Create a custom install directory\n",
        "import os\n",
        "# import shutil\n",
        "# custom_path = \"/kaggle/working/custom_env\"\n",
        "# if os.path.isdir(custom_path):\n",
        "#     shutil.rmtree(custom_path)\n",
        "\n",
        "# os.makedirs(custom_path, exist_ok=True)\n",
        "\n",
        "# Install your desired packages into that path   --no-deps --target={custom_path}\n",
        "!pip install -q langchain_community langgraph langgraph-prebuilt \\\n",
        "langchain  langsmith langchain_experimental langchain-google-genai langchain-google-community \\\n",
        "google-search-results langgraph-checkpoint ormsgpack filetype langchain_core langgraph_sdk \\\n",
        "pyppeteer requests beautifulsoup4 xxhash google-generativeai\n",
        "\n",
        "# Prepend custom path to sys.path so Python loads from there\n",
        "# import sys\n",
        "# sys.path.insert(0, custom_path)"
      ]
    },
    {
      "cell_type": "markdown",
      "metadata": {
        "id": "HyMC9lYyRFub"
      },
      "source": [
        "## Configure API Keys\n",
        "We securely fetch API keys from Kaggle Secrets. You must add the following secrets in the Add-ons > Secrets menu:\n",
        "\n",
        "GOOGLESEARCH_API_KEY — for Google Search API\n",
        "\n",
        "GOOGLE_CSE_ID — Custom Search Engine ID\n",
        "\n",
        "LANGCHAIN_API_KEY — for LangChain’s services"
      ]
    },
    {
      "cell_type": "code",
      "execution_count": 2,
      "metadata": {
        "id": "ikkgApmjRFub"
      },
      "outputs": [],
      "source": [
        "from google.colab import userdata\n",
        "\n",
        "os.environ[\"GOOGLE_API_KEY\"] = userdata.get(\"GOOGLESEARCH_API_KEY\")\n",
        "os.environ[\"GOOGLE_CSE_ID\"] = userdata.get(\"GOOGLE_CSE_ID\")\n",
        "os.environ[\"LANGCHAIN_API_KEY\"] = userdata.get('LANGCHAIN_API_KEY')"
      ]
    },
    {
      "cell_type": "markdown",
      "metadata": {
        "id": "bTtN9SkvRFub"
      },
      "source": [
        "## Enable Tracing\n",
        "LangChain offers an optional tracing feature that helps in debugging complex chains and workflows."
      ]
    },
    {
      "cell_type": "code",
      "execution_count": 3,
      "metadata": {
        "id": "Tu85xhKIRFub"
      },
      "outputs": [],
      "source": [
        "os.environ[\"LANGCHAIN_TRACING_V2\"] = \"true\""
      ]
    },
    {
      "cell_type": "markdown",
      "metadata": {
        "id": "0wN_LP9BRFuc"
      },
      "source": [
        "## Setup Data Storage\n",
        "We initialize a simple in-memory list to store results from the agent workflow:"
      ]
    },
    {
      "cell_type": "code",
      "execution_count": 4,
      "metadata": {
        "id": "jmIBj2oiRFuc"
      },
      "outputs": [],
      "source": [
        "final_result = []  # List to store results from each step of the process"
      ]
    },
    {
      "cell_type": "markdown",
      "metadata": {
        "id": "5WuMwmtZRFuc"
      },
      "source": [
        "## Define Shared State\n",
        "We use a TypedDict class to define and track the shared state between agents. This makes it easier to debug and enforce consistency."
      ]
    },
    {
      "cell_type": "code",
      "execution_count": 5,
      "metadata": {
        "id": "zAlpMUDsRFuc"
      },
      "outputs": [],
      "source": [
        "from typing_extensions import TypedDict\n",
        "from typing import Annotated\n",
        "from langgraph.graph.message import add_messages\n",
        "\n",
        "class State(TypedDict):\n",
        "    \"\"\"\n",
        "    Manages the workflow's shared state as it moves between agents.\n",
        "\n",
        "    Fields:\n",
        "        query (list): History of query messages (as LangGraph messages)\n",
        "        url (list): Links returned from the research agent\n",
        "        research (list): Results returned from the research agent\n",
        "        content (str): The generated blog post content\n",
        "        content_ready (bool): Flag indicating if the content is complete\n",
        "        iteration_count (int): Number of times the research step has run\n",
        "    \"\"\"\n",
        "    query: Annotated[list, add_messages]\n",
        "    url: Annotated[list, add_messages]\n",
        "    research: Annotated[list, add_messages]\n",
        "    content: str\n",
        "    content_ready: bool\n",
        "    iteration_count: int"
      ]
    },
    {
      "cell_type": "markdown",
      "metadata": {
        "id": "nv84AfKHRFuc"
      },
      "source": [
        "## Initialize the Language Model\n",
        "We use Google's Gemini model via LangChain’s wrapper.\n",
        "\n"
      ]
    },
    {
      "cell_type": "code",
      "execution_count": 6,
      "metadata": {
        "colab": {
          "base_uri": "https://localhost:8080/"
        },
        "id": "nFuPXIVHRFuc",
        "outputId": "517be682-869d-4d10-e379-a8200d39f037"
      },
      "outputs": [
        {
          "output_type": "stream",
          "name": "stdout",
          "text": [
            "models/gemini-1.0-pro-vision-latest\n",
            "models/gemini-pro-vision\n",
            "models/gemini-1.5-pro-latest\n",
            "models/gemini-1.5-pro-001\n",
            "models/gemini-1.5-pro-002\n",
            "models/gemini-1.5-pro\n",
            "models/gemini-1.5-flash-latest\n",
            "models/gemini-1.5-flash-001\n",
            "models/gemini-1.5-flash-001-tuning\n",
            "models/gemini-1.5-flash\n",
            "models/gemini-1.5-flash-002\n",
            "models/gemini-1.5-flash-8b\n",
            "models/gemini-1.5-flash-8b-001\n",
            "models/gemini-1.5-flash-8b-latest\n",
            "models/gemini-1.5-flash-8b-exp-0827\n",
            "models/gemini-1.5-flash-8b-exp-0924\n",
            "models/gemini-2.5-pro-exp-03-25\n",
            "models/gemini-2.5-pro-preview-03-25\n",
            "models/gemini-2.5-flash-preview-04-17\n",
            "models/gemini-2.0-flash-exp\n",
            "models/gemini-2.0-flash\n",
            "models/gemini-2.0-flash-001\n",
            "models/gemini-2.0-flash-exp-image-generation\n",
            "models/gemini-2.0-flash-lite-001\n",
            "models/gemini-2.0-flash-lite\n",
            "models/gemini-2.0-flash-lite-preview-02-05\n",
            "models/gemini-2.0-flash-lite-preview\n",
            "models/gemini-2.0-pro-exp\n",
            "models/gemini-2.0-pro-exp-02-05\n",
            "models/gemini-exp-1206\n",
            "models/gemini-2.0-flash-thinking-exp-01-21\n",
            "models/gemini-2.0-flash-thinking-exp\n",
            "models/gemini-2.0-flash-thinking-exp-1219\n",
            "models/learnlm-1.5-pro-experimental\n",
            "models/learnlm-2.0-flash-experimental\n",
            "models/gemma-3-1b-it\n",
            "models/gemma-3-4b-it\n",
            "models/gemma-3-12b-it\n",
            "models/gemma-3-27b-it\n"
          ]
        }
      ],
      "source": [
        "import google.generativeai as genai\n",
        "\n",
        "for m in genai.list_models():\n",
        "  if 'generateContent' in m.supported_generation_methods:\n",
        "    print(m.name)"
      ]
    },
    {
      "cell_type": "code",
      "execution_count": 7,
      "metadata": {
        "id": "xzvsKYKdX-RI"
      },
      "outputs": [],
      "source": [
        "from langchain_google_genai import ChatGoogleGenerativeAI\n",
        "\n",
        "llm = ChatGoogleGenerativeAI(model=\"gemini-2.0-flash-lite\")"
      ]
    },
    {
      "cell_type": "markdown",
      "metadata": {
        "id": "0akRtK08RFuc"
      },
      "source": [
        "## Research Agent\n",
        "format_search(): Uses Gemini to transform natural queries into more search-optimized forms.\n",
        "\n",
        "search(): Executes a search via GoogleSearchRun and stores results in state.\n",
        "\n",
        "🔁 Iteration results are logged in final_result for each loop of query → search."
      ]
    },
    {
      "cell_type": "code",
      "execution_count": 8,
      "metadata": {
        "id": "76TOM6ixRFuc"
      },
      "outputs": [],
      "source": [
        "import time\n",
        "from langchain_google_community import GoogleSearchAPIWrapper\n",
        "# from langchain_google_community import GoogleSearchRun\n",
        "# from googlesearch import search\n",
        "from langchain_core.messages import HumanMessage\n",
        "import requests\n",
        "from bs4 import BeautifulSoup\n",
        "\n",
        "class ResearchAgent:\n",
        "    \"\"\"\n",
        "    Agent responsible for optimizing search queries and fetching research results.\n",
        "    Acts as the initial step in the blog post creation workflow.\n",
        "    \"\"\"\n",
        "    def format_search(self, query: str) -> str:\n",
        "        \"\"\"\n",
        "        Optimizes a search query to improve search result relevance.\n",
        "\n",
        "        Args:\n",
        "            query (str): The original search query provided by the user\n",
        "\n",
        "        Returns:\n",
        "            str: An optimized version of the query for better search results\n",
        "        \"\"\"\n",
        "        prompt = (\n",
        "            \"You are an expert at optimizing search queries for Google. \"\n",
        "            \"Your task is to take a given query and return an optimized version of it, making it more likely to yield relevant results. \"\n",
        "            \"Do not include any explanations or extra text, only the optimized query.\\n\\n\"\n",
        "            \"Example:\\n\"\n",
        "            \"Original: best laptop 2023 for programming\\n\"\n",
        "            \"Optimized: top laptops 2023 for coding\\n\\n\"\n",
        "            \"Example:\\n\"\n",
        "            \"Original: how to train a puppy not to bite\\n\"\n",
        "            \"Optimized: puppy training tips to prevent biting\\n\\n\"\n",
        "            \"Now optimize the following query:\\n\"\n",
        "            f\"Original: {query}\\n\"\n",
        "            \"Optimized:\"\n",
        "        )\n",
        "\n",
        "        time.sleep(2)\n",
        "        response = llm.invoke(prompt)  # Use LLM to optimize the query\n",
        "        return response.content\n",
        "\n",
        "    def fetch_full_content(self, url: str) -> str:\n",
        "        try:\n",
        "            print(f\"getting page content for {url}\")\n",
        "            headers = {'User-Agent': 'Mozilla/5.0 (Windows NT 10.0; Win64; x64) AppleWebKit/537.36 (KHTML, like Gecko) Chrome/123.0.0.0 Safari/537.36'}\n",
        "            response = requests.get(url, headers=headers, timeout=30)\n",
        "            response.raise_for_status()  # Raise an exception for bad status codes\n",
        "            soup = BeautifulSoup(response.content, 'html.parser')\n",
        "            # Extract text content - you might need to adjust the selectors\n",
        "            text_parts = soup.find_all('p')  # get all paragraph text\n",
        "            full_text = \"\\n\".join([part.get_text() for part in text_parts])\n",
        "            if not full_text.strip():\n",
        "                full_text = soup.get_text()[:5000]\n",
        "            return f\"{full_text[:5000]} \" # Limit content length\n",
        "        except requests.exceptions.RequestException as e:\n",
        "            return f\"URL: {url}\\nError fetching content: {e}\"\n",
        "        except Exception as e:\n",
        "            return f\"URL: {url}\\nError parsing content: {e}\"\n",
        "\n",
        "    def search(self, state: State):\n",
        "        \"\"\"\n",
        "        Performs a Google search using the optimized query and updates the state.\n",
        "\n",
        "        Args:\n",
        "            state (State): Current workflow state containing the query\n",
        "\n",
        "        Returns:\n",
        "            dict: Updated state with research results\n",
        "        \"\"\"\n",
        "        # Initialize the Google Search API wrapper first\n",
        "        search_wrapper = GoogleSearchAPIWrapper(k=10)  # Configure to return top 10 results\n",
        "\n",
        "        # Track execution time for performance monitoring\n",
        "        start_time = time.perf_counter()\n",
        "        optimized_query = self.format_search(state.get('query', \"\")[-1].content)  # Get and optimize the latest query\n",
        "        end_time = time.perf_counter()\n",
        "\n",
        "        for _ in range(3):\n",
        "            raw_results = search_wrapper.results(optimized_query, 1)  # Execute the search\n",
        "\n",
        "            if raw_results and raw_results[0].get('link'):\n",
        "                url = raw_results[0]['link']\n",
        "                full_content = self.fetch_full_content(url)\n",
        "                time.sleep(1) # Be respectful of website rate limits\n",
        "                if full_content!=\"\":\n",
        "                    final_result.append({\"subheader\": f\"Research Iteration\", \"content\": [full_content], \"time\": time.perf_counter() - time.perf_counter()}) # Correct the time calculation\n",
        "                    return {\"research\": full_content, \"url\": url, \"query\": optimized_query}\n",
        "                else:\n",
        "                    print(\"No content found\")\n",
        "            else:\n",
        "                print(\"No url found\")\n",
        "\n",
        "        return {\"query\": optimized_query}  # Return updated state"
      ]
    },
    {
      "cell_type": "markdown",
      "metadata": {
        "id": "DECJGsxLRFud"
      },
      "source": [
        "## Editor Agent\n",
        "- Uses Gemini to inspect accumulated research.\n",
        "\n",
        "- If results are sufficient, it sets content_ready = True.\n",
        "\n",
        "- If insufficient, it generates a new improved query and continues the loop.\n",
        "\n",
        "🔐 Includes a hard limit of 10 iterations to prevent infinite loops."
      ]
    },
    {
      "cell_type": "code",
      "execution_count": 9,
      "metadata": {
        "id": "Hf_TjGjMRFud"
      },
      "outputs": [],
      "source": [
        "class EditorAgent:\n",
        "    \"\"\"\n",
        "    Agent responsible for evaluating research results and determining if more research is needed.\n",
        "    Acts as the decision-making component in the workflow.\n",
        "    \"\"\"\n",
        "    def evaluate_research(self, state: State):\n",
        "        \"\"\"\n",
        "        Evaluates if the current research is sufficient to write a comprehensive blog post.\n",
        "\n",
        "        Args:\n",
        "            state (State): Current workflow state containing queries and research\n",
        "\n",
        "        Returns:\n",
        "            dict: Updated state with evaluation results and either content_ready flag or new query\n",
        "        \"\"\"\n",
        "        # Combine all existing queries and research results\n",
        "        query = '\\n'.join(message.content for message in state.get(\"query\"))\n",
        "        research = '\\n'.join(message.content for message in state.get(\"research\"))\n",
        "\n",
        "        # Track iteration count to prevent infinite loops\n",
        "        iteration_count = state.get(\"iteration_count\", 1)\n",
        "\n",
        "        if iteration_count is None:\n",
        "            iteration_count = 1\n",
        "\n",
        "        # Hard limit of 10 iterations to prevent endless loops\n",
        "        if iteration_count >= 3:\n",
        "            return {\"content_ready\": True}  # Force completion after 10 iterations\n",
        "\n",
        "        prompt = (\n",
        "            \"You are an expert editor. Your task is to evaluate the research based on the query. \"\n",
        "            \"If the information is sufficient to create a comprehensive and accurate blog post, respond with 'sufficient'. \"\n",
        "            \"If the information is not sufficient, respond with 'insufficient' and provide a new, creative query suggestion to improve the results. \"\n",
        "            \"If the research results appear repetitive or not diverse enough, think about a very different kind of question that could yield more varied and relevant information. \"\n",
        "            \"Consider the depth, relevance, and completeness of the information when making your decision.\\n\\n\"\n",
        "            \"Example 1:\\n\"\n",
        "            \"Used queries: What are the benefits of a Mediterranean diet?\\n\"\n",
        "            \"Research: The Mediterranean diet includes fruits, vegetables, whole grains, and healthy fats.\\n\"\n",
        "            \"Evaluation: Insufficient\\n\"\n",
        "            \"New query: Detailed health benefits of a Mediterranean diet\\n\\n\"\n",
        "            \"Example 2:\\n\"\n",
        "            \"Used queries: How does solar power work?\\n\"\n",
        "            \"Research: Solar power works by converting sunlight into electricity using photovoltaic cells.\\n\"\n",
        "            \"Evaluation: Sufficient\\n\\n\"\n",
        "            \"Example 3:\\n\"\n",
        "            \"Used queries: Effects of climate change on polar bears?\\n\"\n",
        "            \"Research: Climate change is reducing sea ice, affecting polar bear habitats.\\n\"\n",
        "            \"Evaluation: Insufficient\\n\"\n",
        "            \"New query: How are polar bears adapting to the loss of sea ice due to climate change?\\n\\n\"\n",
        "            \"Now evaluate the following:\\n\"\n",
        "            f\"Used queries: {query}\\n\"\n",
        "            f\"Research: {research}\\n\\n\"\n",
        "            \"Evaluation (sufficient/insufficient):\\n\"\n",
        "            \"New query (if insufficient):\"\n",
        "        )\n",
        "\n",
        "        time.sleep(2)\n",
        "\n",
        "        # Track execution time for performance monitoring\n",
        "        start_time = time.perf_counter()\n",
        "        response = llm.invoke(prompt)  # Use LLM to evaluate research quality\n",
        "        end_time = time.perf_counter()\n",
        "\n",
        "        evaluation = response.content.strip()\n",
        "\n",
        "        # Record this iteration's evaluation for logging/debugging\n",
        "        final_result.append({\"subheader\": f\"Editor Evaluation Iteration\", \"content\": evaluation, \"time\": end_time - start_time})\n",
        "\n",
        "        # Parse response to determine next steps\n",
        "        if \"new query:\" in evaluation.lower():\n",
        "            # Extract new query suggestion if research is insufficient\n",
        "            new_query = evaluation.split(\"New query:\", 1)[-1].strip()\n",
        "            print(f\"New query suggestion: {new_query}\")\n",
        "            return {\"query\": [new_query], \"iteration_count\": iteration_count + 1, \"evaluation\": evaluation}\n",
        "        else:\n",
        "            # Research is sufficient, proceed to content creation\n",
        "            return {\"content_ready\": True, \"evaluation\": evaluation}"
      ]
    },
    {
      "cell_type": "markdown",
      "metadata": {
        "id": "TPZzwgciRFud"
      },
      "source": [
        "## Writer Agent\n",
        "- Combines query and research into a single blog post.\n",
        "\n",
        "- Uses Gemini to generate detailed, structured content (intro, body, conclusion)."
      ]
    },
    {
      "cell_type": "code",
      "execution_count": 10,
      "metadata": {
        "id": "ANX0balnRFud"
      },
      "outputs": [],
      "source": [
        "class WriterAgent:\n",
        "    \"\"\"\n",
        "    Agent responsible for writing the final blog post based on the research.\n",
        "    Acts as the final step in the workflow once research is deemed sufficient.\n",
        "    \"\"\"\n",
        "    def write_blogpost(self, state: State):\n",
        "        \"\"\"\n",
        "        Generates a comprehensive blog post based on the query and research.\n",
        "\n",
        "        Args:\n",
        "            state (State): Current workflow state containing query and research data\n",
        "\n",
        "        Returns:\n",
        "            dict: Updated state with the final blog post content\n",
        "        \"\"\"\n",
        "        query = state.get(\"query\")[0].content  if isinstance(state.get(\"query\", [\"\"]), list) else state.get(\"query\", \"\") # Get the original query\n",
        "        research = \"\\n\".join([f\"[{i+1}] {message.content} \\n\" for i, message in enumerate(state.get(\"research\", []))])  # Combine all research results\n",
        "        references = \"\\n\".join([f\"[{i+1}] {message.content} \\n\" for i, message in enumerate(state.get(\"url\", []))])\n",
        "\n",
        "        prompt = (\n",
        "            \"You are an expert blog post writer. Your task is to take a given query and context, and write a comprehensive, engaging, and informative short blog post about it. \"\n",
        "            \"Make sure to include an introduction, main body with detailed information, and a conclusion. Use a friendly and accessible tone, and ensure the content is well-structured and easy to read. \"\n",
        "            \"Apply best practices to cite the sources you used by referring to the number in the square brackets. \"\n",
        "            \"Do not add the References section, I will add it at the bottom of the blog post.\"\n",
        "            \"Do not add anything other content not in the sources.\\n\\n\"\n",
        "            f\"Query: {query}\\n\\n\"\n",
        "            f\"Context:\\n{research}\\n\\n\"\n",
        "            f\"**References:**\\n{references}\"\n",
        "            \"Write a detailed and engaging blog post based on the above query and context.\"\n",
        "        )\n",
        "\n",
        "        time.sleep(2)\n",
        "\n",
        "        response = llm.invoke(prompt)  # Use LLM to generate the blog post\n",
        "\n",
        "        blogpost = f\"{response.content}\\n\\n**References:**\\n\\n{references}\"\n",
        "\n",
        "        return {\"content\": blogpost}"
      ]
    },
    {
      "cell_type": "markdown",
      "metadata": {
        "id": "mUYUG_n1RFud"
      },
      "source": [
        "## Define the LangGraph\n",
        "🔄 This creates a loop between search_agent → editor_agent → (search or writer)."
      ]
    },
    {
      "cell_type": "code",
      "execution_count": 11,
      "metadata": {
        "id": "AF5vljU9RFud"
      },
      "outputs": [],
      "source": [
        "from langgraph.graph import StateGraph, START, END\n",
        "\n",
        "# Initialize the StateGraph\n",
        "graph = StateGraph(State)  # Create workflow graph using the State class as schema\n",
        "\n",
        "# Add agent nodes to the graph\n",
        "graph.add_node(\"search_agent\", ResearchAgent().search)  # Research node\n",
        "graph.add_node(\"writer_agent\", WriterAgent().write_blogpost)  # Writer node\n",
        "graph.add_node(\"editor_agent\", EditorAgent().evaluate_research)  # Editor node\n",
        "\n",
        "# Set the entry point of the workflow\n",
        "graph.set_entry_point(\"search_agent\")  # Start with search\n",
        "\n",
        "# Add direct edge from search to editor\n",
        "graph.add_edge(\"search_agent\", \"editor_agent\")\n",
        "\n",
        "# Add conditional edges from editor based on research evaluation\n",
        "graph.add_conditional_edges(\n",
        "    \"editor_agent\",\n",
        "    lambda state: \"accept\" if state.get(\"content_ready\") else \"revise\",  # Decision function\n",
        "    {\n",
        "        \"accept\": \"writer_agent\",  # If research is sufficient, proceed to writing\n",
        "        \"revise\": \"search_agent\"   # If more research needed, loop back to search\n",
        "    }\n",
        ")\n",
        "\n",
        "# Add edge from writer to end the workflow\n",
        "graph.add_edge(\"writer_agent\", END)\n",
        "\n",
        "# Compile the graph to make it executable\n",
        "graph = graph.compile()"
      ]
    },
    {
      "cell_type": "markdown",
      "metadata": {
        "id": "ycDPcw__RFud"
      },
      "source": [
        "The following code renders the graph. ([see graph rendered on https://mermaid.live/](https://drive.google.com/file/d/1qAq8IjjfSuVslKCnuHljdiVwcJXhlzZR/view?usp=drive_link))"
      ]
    },
    {
      "cell_type": "code",
      "execution_count": 12,
      "metadata": {
        "id": "gwwz57FHRFud"
      },
      "outputs": [],
      "source": [
        "from IPython.display import Image\n",
        "\n",
        "# Image(graph.get_graph().draw_mermaid_png())"
      ]
    },
    {
      "cell_type": "markdown",
      "metadata": {
        "id": "PqncRJ2mRFud"
      },
      "source": [
        "## Main Invocation Function\n",
        "This function:\n",
        "\n",
        "- Starts the LangGraph with the user’s query\n",
        "\n",
        "- Automatically loops through agents until content_ready\n",
        "\n",
        "- Returns the final blog post"
      ]
    },
    {
      "cell_type": "code",
      "execution_count": 13,
      "metadata": {
        "id": "1sThQQ6PRFud"
      },
      "outputs": [],
      "source": [
        "def invoke_graph(user_prompt):\n",
        "    \"\"\"\n",
        "    Main function to execute the entire blog post generation workflow.\n",
        "\n",
        "    Args:\n",
        "        user_prompt (str): The initial user query to research and write about\n",
        "\n",
        "    Returns:\n",
        "        str: The final blog post content\n",
        "    \"\"\"\n",
        "    # Track total execution time\n",
        "    start_time = time.perf_counter()\n",
        "    blogpost = graph.invoke({\"query\": user_prompt})  # Start the workflow with user prompt\n",
        "    end_time = time.perf_counter()\n",
        "    print(f\"Total time in completing the workflow: {end_time - start_time} seconds\\n\\n\")  # Add spacing for readability in console output\n",
        "    return blogpost[\"content\"]  # Return the final blog post content"
      ]
    },
    {
      "cell_type": "markdown",
      "metadata": {
        "id": "4nrzTgd9RFud"
      },
      "source": [
        "## Provide your prompt"
      ]
    },
    {
      "cell_type": "code",
      "execution_count": 14,
      "metadata": {
        "id": "SwYDeWrbRFud"
      },
      "outputs": [],
      "source": [
        "user_prompt = \"Act as an expert in Financial Services, explain in detail on separately managed accounts using 5000 words or more.\""
      ]
    },
    {
      "cell_type": "markdown",
      "metadata": {
        "id": "jEockocbRFud"
      },
      "source": [
        "## View response\n",
        "You will see the Google search results in the first section, and the blogpost generated in the next."
      ]
    },
    {
      "cell_type": "code",
      "execution_count": 15,
      "metadata": {
        "colab": {
          "base_uri": "https://localhost:8080/",
          "height": 1000
        },
        "id": "DSV2t70mRFud",
        "outputId": "f7170229-3648-44ab-ade3-74f96ed5feb3"
      },
      "outputs": [
        {
          "output_type": "stream",
          "name": "stdout",
          "text": [
            "getting page content for https://careers.seic.com/global/en/job/R0032000/Specialist-I-Separately-Managed-Accounts\n",
            "New query suggestion: What are the key benefits and drawbacks of separately managed accounts (SMAs) for different investor profiles (e.g., high-net-worth individuals, institutional investors)? Provide a detailed comparison of SMAs to other investment vehicles (e.g., mutual funds, ETFs, hedge funds), covering topics such as cost, transparency, tax efficiency, customization, and risk management. Include real-world examples and case studies.\n",
            "getting page content for https://www.linkedin.com/in/andrew-wilson-600b55\n",
            "New query suggestion: Analyze the current market landscape for Separately Managed Accounts (SMAs), including the latest trends in investment strategies, fee structures, and technological advancements. Focus on how these trends are impacting different investor segments (high-net-worth individuals, institutional investors, and retail investors) and the challenges and opportunities for financial advisors in offering and managing SMAs.\n",
            "getting page content for https://www.investmentadviser.org/wp-content/uploads/2024/06/Snapshot2024_FINAL.pdf\n"
          ]
        },
        {
          "output_type": "stream",
          "name": "stderr",
          "text": [
            "WARNING:bs4.dammit:Some characters could not be decoded, and were replaced with REPLACEMENT CHARACTER.\n"
          ]
        },
        {
          "output_type": "stream",
          "name": "stdout",
          "text": [
            "Total time in completing the workflow: 1780.5810141789998 seconds\n",
            "\n",
            "\n"
          ]
        },
        {
          "output_type": "execute_result",
          "data": {
            "text/plain": [
              "<IPython.core.display.Markdown object>"
            ],
            "text/markdown": "## Diving Deep into Separately Managed Accounts (SMAs): A Comprehensive Guide\n\nAre you looking for a more personalized and potentially tax-efficient way to invest? Have you heard of Separately Managed Accounts (SMAs) and wondered if they might be right for you? This blog post will provide a comprehensive overview of SMAs, exploring their features, benefits, and considerations to help you determine if they align with your financial goals.\n\n### What are Separately Managed Accounts?\n\nUnlike mutual funds where your money is pooled with other investors' funds, a Separately Managed Account (SMA) is a portfolio of investments managed specifically for you [1]. This means your investments are held in your name, and the portfolio is tailored to your individual financial situation, investment objectives, and risk tolerance. SMAs are typically managed by professional investment managers, often affiliated with brokerage firms or independent advisory firms.\n\n### Key Features of SMAs:\n\n*   **Customization:** This is the hallmark of an SMA. The investment manager can customize the portfolio to your specific needs, unlike a mutual fund that follows a standardized investment strategy. This customization can include asset allocation, security selection, and tax-management strategies.\n*   **Direct Ownership:** You directly own the securities in your portfolio. This provides greater transparency and control compared to investing in a fund.\n*   **Tax Efficiency:** SMAs often offer greater tax efficiency than mutual funds. The investment manager can actively manage capital gains and losses to minimize your tax liability. They can also utilize tax-loss harvesting, selling investments that have lost value to offset gains elsewhere in the portfolio.\n*   **Transparency:** You typically receive regular reports detailing the holdings, performance, and transactions within your account. This provides a clear understanding of how your investments are performing.\n*   **Professional Management:** SMAs are managed by experienced investment professionals who have the expertise to make informed investment decisions.\n\n### Benefits of Investing in SMAs:\n\n*   **Personalized Investment Strategy:** The primary benefit is the ability to create an investment strategy tailored to your unique circumstances. This includes aligning the portfolio with your risk tolerance, time horizon, and financial goals.\n*   **Potential for Higher Returns:** Skilled investment managers can potentially generate higher returns by actively managing the portfolio and selecting investments that align with your objectives.\n*   **Tax Optimization:** As mentioned, SMAs offer opportunities for tax-efficient investing, which can significantly impact your after-tax returns.\n*   **Enhanced Communication and Service:** You typically have direct access to your investment manager, providing opportunities for personalized advice and ongoing communication.\n*   **Greater Control:** While you delegate the investment decisions, you maintain control over your investments and can provide input on your investment strategy.\n\n### Considerations Before Investing in an SMA:\n\n*   **Minimum Investment Requirements:** SMAs typically have higher minimum investment requirements than other investment vehicles, such as mutual funds or ETFs. This can range from $100,000 to several million dollars [1].\n*   **Fees:** SMAs typically charge an annual management fee, usually a percentage of the assets under management (AUM). This fee can vary depending on the investment manager and the complexity of the portfolio.\n*   **Performance:** While professional management can enhance returns, there is no guarantee of outperformance. It's crucial to evaluate the investment manager's track record and investment strategy.\n*   **Complexity:** SMAs can be more complex than other investment options. It's essential to understand the investment strategy and how it aligns with your goals.\n*   **Due Diligence:** Before investing in an SMA, it's essential to conduct thorough due diligence. This includes researching the investment manager, reviewing their track record, understanding their investment strategy, and assessing their fees.\n\n### Who is an SMA Right For?\n\nSMAs are generally best suited for investors who:\n\n*   Have a significant amount of investable assets.\n*   Seek a highly personalized investment strategy.\n*   Desire tax-efficient investing.\n*   Want direct access to a professional investment manager.\n*   Prefer a high degree of transparency and control over their investments.\n\n### Finding the Right Investment Manager:\n\nSelecting the right investment manager is critical to the success of your SMA. Consider the following factors:\n\n*   **Experience and Credentials:** Look for an investment manager with a proven track record and relevant certifications, such as the Chartered Financial Analyst (CFA) designation.\n*   **Investment Strategy:** Ensure the manager's investment strategy aligns with your financial goals and risk tolerance.\n*   **Fees and Expenses:** Understand the fee structure and all associated costs.\n*   **Communication and Service:** Assess the manager's communication style and the level of service they provide.\n*   **References:** Ask for references from existing clients to gauge their satisfaction with the manager's services.\n\n### Conclusion:\n\nSeparately Managed Accounts offer a compelling investment solution for high-net-worth individuals seeking personalized investment management, tax efficiency, and direct ownership of their investments. By carefully considering your financial goals, risk tolerance, and the factors outlined in this guide, you can determine if an SMA is the right choice for you. Remember to conduct thorough due diligence and choose an investment manager with the expertise and experience to help you achieve your financial objectives.\n\n**References:**\n\n[1] https://careers.seic.com/global/en/job/R0032000/Specialist-I-Separately-Managed-Accounts \n\n[2] https://www.linkedin.com/in/andrew-wilson-600b55 \n\n[3] https://www.investmentadviser.org/wp-content/uploads/2024/06/Snapshot2024_FINAL.pdf \n"
          },
          "metadata": {},
          "execution_count": 15
        }
      ],
      "source": [
        "from IPython.display import Markdown\n",
        "\n",
        "result = invoke_graph(user_prompt)\n",
        "Markdown(result)"
      ]
    },
    {
      "cell_type": "code",
      "execution_count": 16,
      "metadata": {
        "id": "5yfZSV6rRFue",
        "colab": {
          "base_uri": "https://localhost:8080/"
        },
        "outputId": "09c44526-80ce-4b93-d71d-fc92e8ceab69"
      },
      "outputs": [
        {
          "output_type": "stream",
          "name": "stdout",
          "text": [
            "## Diving Deep into Separately Managed Accounts (SMAs): A Comprehensive Guide\n",
            "\n",
            "Are you looking for a more personalized and potentially tax-efficient way to invest? Have you heard of Separately Managed Accounts (SMAs) and wondered if they might be right for you? This blog post will provide a comprehensive overview of SMAs, exploring their features, benefits, and considerations to help you determine if they align with your financial goals.\n",
            "\n",
            "### What are Separately Managed Accounts?\n",
            "\n",
            "Unlike mutual funds where your money is pooled with other investors' funds, a Separately Managed Account (SMA) is a portfolio of investments managed specifically for you [1]. This means your investments are held in your name, and the portfolio is tailored to your individual financial situation, investment objectives, and risk tolerance. SMAs are typically managed by professional investment managers, often affiliated with brokerage firms or independent advisory firms.\n",
            "\n",
            "### Key Features of SMAs:\n",
            "\n",
            "*   **Customization:** This is the hallmark of an SMA. The investment manager can customize the portfolio to your specific needs, unlike a mutual fund that follows a standardized investment strategy. This customization can include asset allocation, security selection, and tax-management strategies.\n",
            "*   **Direct Ownership:** You directly own the securities in your portfolio. This provides greater transparency and control compared to investing in a fund.\n",
            "*   **Tax Efficiency:** SMAs often offer greater tax efficiency than mutual funds. The investment manager can actively manage capital gains and losses to minimize your tax liability. They can also utilize tax-loss harvesting, selling investments that have lost value to offset gains elsewhere in the portfolio.\n",
            "*   **Transparency:** You typically receive regular reports detailing the holdings, performance, and transactions within your account. This provides a clear understanding of how your investments are performing.\n",
            "*   **Professional Management:** SMAs are managed by experienced investment professionals who have the expertise to make informed investment decisions.\n",
            "\n",
            "### Benefits of Investing in SMAs:\n",
            "\n",
            "*   **Personalized Investment Strategy:** The primary benefit is the ability to create an investment strategy tailored to your unique circumstances. This includes aligning the portfolio with your risk tolerance, time horizon, and financial goals.\n",
            "*   **Potential for Higher Returns:** Skilled investment managers can potentially generate higher returns by actively managing the portfolio and selecting investments that align with your objectives.\n",
            "*   **Tax Optimization:** As mentioned, SMAs offer opportunities for tax-efficient investing, which can significantly impact your after-tax returns.\n",
            "*   **Enhanced Communication and Service:** You typically have direct access to your investment manager, providing opportunities for personalized advice and ongoing communication.\n",
            "*   **Greater Control:** While you delegate the investment decisions, you maintain control over your investments and can provide input on your investment strategy.\n",
            "\n",
            "### Considerations Before Investing in an SMA:\n",
            "\n",
            "*   **Minimum Investment Requirements:** SMAs typically have higher minimum investment requirements than other investment vehicles, such as mutual funds or ETFs. This can range from $100,000 to several million dollars [1].\n",
            "*   **Fees:** SMAs typically charge an annual management fee, usually a percentage of the assets under management (AUM). This fee can vary depending on the investment manager and the complexity of the portfolio.\n",
            "*   **Performance:** While professional management can enhance returns, there is no guarantee of outperformance. It's crucial to evaluate the investment manager's track record and investment strategy.\n",
            "*   **Complexity:** SMAs can be more complex than other investment options. It's essential to understand the investment strategy and how it aligns with your goals.\n",
            "*   **Due Diligence:** Before investing in an SMA, it's essential to conduct thorough due diligence. This includes researching the investment manager, reviewing their track record, understanding their investment strategy, and assessing their fees.\n",
            "\n",
            "### Who is an SMA Right For?\n",
            "\n",
            "SMAs are generally best suited for investors who:\n",
            "\n",
            "*   Have a significant amount of investable assets.\n",
            "*   Seek a highly personalized investment strategy.\n",
            "*   Desire tax-efficient investing.\n",
            "*   Want direct access to a professional investment manager.\n",
            "*   Prefer a high degree of transparency and control over their investments.\n",
            "\n",
            "### Finding the Right Investment Manager:\n",
            "\n",
            "Selecting the right investment manager is critical to the success of your SMA. Consider the following factors:\n",
            "\n",
            "*   **Experience and Credentials:** Look for an investment manager with a proven track record and relevant certifications, such as the Chartered Financial Analyst (CFA) designation.\n",
            "*   **Investment Strategy:** Ensure the manager's investment strategy aligns with your financial goals and risk tolerance.\n",
            "*   **Fees and Expenses:** Understand the fee structure and all associated costs.\n",
            "*   **Communication and Service:** Assess the manager's communication style and the level of service they provide.\n",
            "*   **References:** Ask for references from existing clients to gauge their satisfaction with the manager's services.\n",
            "\n",
            "### Conclusion:\n",
            "\n",
            "Separately Managed Accounts offer a compelling investment solution for high-net-worth individuals seeking personalized investment management, tax efficiency, and direct ownership of their investments. By carefully considering your financial goals, risk tolerance, and the factors outlined in this guide, you can determine if an SMA is the right choice for you. Remember to conduct thorough due diligence and choose an investment manager with the expertise and experience to help you achieve your financial objectives.\n",
            "\n",
            "**References:**\n",
            "\n",
            "[1] https://careers.seic.com/global/en/job/R0032000/Specialist-I-Separately-Managed-Accounts \n",
            "\n",
            "[2] https://www.linkedin.com/in/andrew-wilson-600b55 \n",
            "\n",
            "[3] https://www.investmentadviser.org/wp-content/uploads/2024/06/Snapshot2024_FINAL.pdf \n",
            "\n"
          ]
        }
      ],
      "source": [
        "print(result)"
      ]
    },
    {
      "cell_type": "markdown",
      "metadata": {
        "id": "EcDWmWdpRFue"
      },
      "source": [
        "# Blogpost for Gen AI Intensive Course Capstone 2025Q1\n",
        "This is the link to the blogpost https://www.linkedin.com/pulse/supercharging-content-creation-ai-research-agents-vinod-v--pwjte"
      ]
    },
    {
      "cell_type": "markdown",
      "metadata": {
        "id": "WzyHTKPSRFue"
      },
      "source": [
        "# YouTube video\n",
        "This is the link to the YouTube video https://youtu.be/XUpenymdGDQ"
      ]
    },
    {
      "cell_type": "code",
      "execution_count": 16,
      "metadata": {
        "id": "W0BMrNtbRFue"
      },
      "outputs": [],
      "source": []
    }
  ],
  "metadata": {
    "colab": {
      "provenance": [],
      "include_colab_link": true
    },
    "kaggle": {
      "accelerator": "none",
      "dataSources": [
        {
          "sourceId": 97258,
          "sourceType": "competition"
        }
      ],
      "dockerImageVersionId": 31012,
      "isGpuEnabled": false,
      "isInternetEnabled": true,
      "language": "python",
      "sourceType": "notebook"
    },
    "kernelspec": {
      "display_name": "Python 3",
      "language": "python",
      "name": "python3"
    },
    "language_info": {
      "codemirror_mode": {
        "name": "ipython",
        "version": 3
      },
      "file_extension": ".py",
      "mimetype": "text/x-python",
      "name": "python",
      "nbconvert_exporter": "python",
      "pygments_lexer": "ipython3",
      "version": "3.11.11"
    }
  },
  "nbformat": 4,
  "nbformat_minor": 0
}