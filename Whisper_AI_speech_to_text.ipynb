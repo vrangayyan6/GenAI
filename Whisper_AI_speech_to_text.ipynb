{
  "nbformat": 4,
  "nbformat_minor": 0,
  "metadata": {
    "colab": {
      "provenance": [],
      "gpuType": "T4",
      "authorship_tag": "ABX9TyOCtKIglYi+febAuUqO9+og",
      "include_colab_link": true
    },
    "kernelspec": {
      "name": "python3",
      "display_name": "Python 3"
    },
    "language_info": {
      "name": "python"
    },
    "accelerator": "GPU"
  },
  "cells": [
    {
      "cell_type": "markdown",
      "metadata": {
        "id": "view-in-github",
        "colab_type": "text"
      },
      "source": [
        "<a href=\"https://colab.research.google.com/github/vrangayyan6/GenAI/blob/main/Whisper_AI_speech_to_text.ipynb\" target=\"_parent\"><img src=\"https://colab.research.google.com/assets/colab-badge.svg\" alt=\"Open In Colab\"/></a>"
      ]
    },
    {
      "cell_type": "markdown",
      "source": [
        "ref: [Best FREE Speech to Text AI – Whisper AI](https://kevinstratvert.com/2023/01/19/best-free-speech-to-text-ai-whisper-ai/)\n"
      ],
      "metadata": {
        "id": "4g5I52I_1s7J"
      }
    },
    {
      "cell_type": "code",
      "execution_count": null,
      "metadata": {
        "id": "o9ISaW3D1JzT"
      },
      "outputs": [],
      "source": [
        "!pip install git+https://github.com/openai/whisper.git\n",
        "!sudo apt update && sudo apt install ffmpeg"
      ]
    },
    {
      "cell_type": "markdown",
      "source": [
        "# Upload audio/video file\n",
        "\n",
        "*   Click the Folder icon on the left hand navigation menu\n",
        "*   Drag and drop in the audio or video you want to transcribe.\n",
        "*   Click “OK” to the “Reminder, uploaded files will get deleted when this runtime is recycled.” dialog box.\n",
        "*   The file has been uploaded and you should see it under the Folder menu in the left navigation menu"
      ],
      "metadata": {
        "id": "itnSU86B2AAH"
      }
    },
    {
      "cell_type": "code",
      "source": [
        "# !whisper \"ENTER FILE NAME HERE\" --model medium.en --model_dir 'ENTER FOLDER PATH'\n",
        "\n"
      ],
      "metadata": {
        "id": "4GcPgLTM2mqr"
      },
      "execution_count": null,
      "outputs": []
    },
    {
      "cell_type": "code",
      "source": [],
      "metadata": {
        "id": "cYGg-IDj3iNw"
      },
      "execution_count": null,
      "outputs": []
    }
  ]
}